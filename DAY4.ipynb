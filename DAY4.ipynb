{
 "cells": [
  {
   "cell_type": "code",
   "execution_count": 1,
   "id": "e0a41718-4d8d-488c-84c6-dc08560e4186",
   "metadata": {},
   "outputs": [
    {
     "name": "stdout",
     "output_type": "stream",
     "text": [
      "0    10\n",
      "1    20\n",
      "2    30\n",
      "3    40\n",
      "dtype: int64\n"
     ]
    }
   ],
   "source": [
    "#PANDAS\n",
    "#Creating Data Structures:Series\n",
    "#From a Python List\n",
    "import pandas as pd\n",
    "data = [10, 20, 30, 40]\n",
    "s = pd.Series(data)\n",
    "print(s)"
   ]
  },
  {
   "cell_type": "code",
   "execution_count": 2,
   "id": "4b77885b-f733-4a99-b0ac-a6b8197e38d0",
   "metadata": {},
   "outputs": [
    {
     "name": "stdout",
     "output_type": "stream",
     "text": [
      "a    10\n",
      "b    20\n",
      "c    30\n",
      "dtype: int64\n"
     ]
    }
   ],
   "source": [
    "#From a Dictionary:\n",
    "data = {'a': 10, 'b': 20, 'c': 30}\n",
    "s = pd.Series(data)\n",
    "print(s)"
   ]
  },
  {
   "cell_type": "code",
   "execution_count": 3,
   "id": "771036cb-d9a8-4da7-a11d-b0f10e43e5eb",
   "metadata": {},
   "outputs": [
    {
     "name": "stdout",
     "output_type": "stream",
     "text": [
      "10\n"
     ]
    }
   ],
   "source": [
    "#Accessing Data in a Series\n",
    "#By Index\n",
    "print(s['a'])"
   ]
  },
  {
   "cell_type": "code",
   "execution_count": 4,
   "id": "8ade48c6-361a-43d2-9f52-75ce8e1be074",
   "metadata": {},
   "outputs": [
    {
     "name": "stdout",
     "output_type": "stream",
     "text": [
      "a    10\n",
      "b    20\n",
      "dtype: int64\n"
     ]
    }
   ],
   "source": [
    "#Slicing\n",
    "print(s['a':'b'])"
   ]
  },
  {
   "cell_type": "code",
   "execution_count": 5,
   "id": "0cd3f0d1-fbbd-4a7d-b365-f1918bbf90eb",
   "metadata": {},
   "outputs": [
    {
     "name": "stdout",
     "output_type": "stream",
     "text": [
      "0    6\n",
      "1    7\n",
      "2    8\n",
      "dtype: int64\n",
      "0    2\n",
      "1    4\n",
      "2    6\n",
      "dtype: int64\n",
      "2.0\n",
      "6\n"
     ]
    }
   ],
   "source": [
    "#Common Operations on a Series\n",
    "#Arithmetic Operations:\n",
    "s = pd.Series([1, 2, 3])\n",
    "print(s + 5)  \n",
    "print(s * 2)\n",
    "\n",
    "#statistical function\n",
    "print(s.mean())  \n",
    "print(s.sum())"
   ]
  },
  {
   "cell_type": "code",
   "execution_count": 6,
   "id": "8a7f045a-b385-4fdb-a86c-3a9fcf0e7ec8",
   "metadata": {},
   "outputs": [
    {
     "name": "stdout",
     "output_type": "stream",
     "text": [
      "0    False\n",
      "1     True\n",
      "2    False\n",
      "dtype: bool\n"
     ]
    }
   ],
   "source": [
    "#checking null values\n",
    "s = pd.Series([1, None, 3])\n",
    "print(s.isnull())"
   ]
  },
  {
   "cell_type": "code",
   "execution_count": 7,
   "id": "0b534658-c23d-43a6-9890-4f57e6e387ee",
   "metadata": {},
   "outputs": [
    {
     "name": "stdout",
     "output_type": "stream",
     "text": [
      "      Name  Age         City\n",
      "0    Alice   25     New York\n",
      "1      Bob   30  Los Angeles\n",
      "2  Charlie   35      Chicago\n"
     ]
    }
   ],
   "source": [
    "#DATAFRAME\n",
    "\n",
    "#From a Dictionary\n",
    "import pandas as pd\n",
    "data = {\n",
    "    'Name': ['Alice', 'Bob', 'Charlie'],\n",
    "    'Age': [25, 30, 35],\n",
    "    'City': ['New York', 'Los Angeles', 'Chicago']\n",
    "}\n",
    "df = pd.DataFrame(data)\n",
    "print(df)"
   ]
  },
  {
   "cell_type": "code",
   "execution_count": 8,
   "id": "485c66e2-4c08-4082-95a7-b77dd3ad7c49",
   "metadata": {},
   "outputs": [
    {
     "name": "stdout",
     "output_type": "stream",
     "text": [
      "      Name  Age         City\n",
      "0    Alice   25     New York\n",
      "1      Bob   30  Los Angeles\n",
      "2  Charlie   35      Chicago\n"
     ]
    }
   ],
   "source": [
    "#From a List of Lists:\n",
    "data = [['Alice', 25, 'New York'], ['Bob', 30, 'Los Angeles'], ['Charlie', 35, 'Chicago']]\n",
    "df = pd.DataFrame(data, columns=['Name', 'Age', 'City'])\n",
    "print(df)"
   ]
  },
  {
   "cell_type": "code",
   "execution_count": 9,
   "id": "e3aff1f1-b0b2-477d-b6b7-b24aae2cd7a1",
   "metadata": {},
   "outputs": [
    {
     "name": "stdout",
     "output_type": "stream",
     "text": [
      "   Column1  Column2\n",
      "0        1        2\n",
      "1        3        4\n",
      "2        5        6\n"
     ]
    }
   ],
   "source": [
    "#From a NumPy Array:\n",
    "import numpy as np\n",
    "data = np.array([[1, 2], [3, 4], [5, 6]])\n",
    "df = pd.DataFrame(data, columns=['Column1', 'Column2'])\n",
    "print(df)"
   ]
  },
  {
   "cell_type": "code",
   "execution_count": 10,
   "id": "7c0d7670-1fb4-4610-a1cd-4ea6f9b08b49",
   "metadata": {},
   "outputs": [
    {
     "name": "stdout",
     "output_type": "stream",
     "text": [
      "      Name  Age  Department   Salary JoiningDate\n",
      "0    Alice   25          IT  55000.0  2022-05-15\n",
      "1      Bob   30     Finance      NaN  2021-03-20\n",
      "2  Charlie   35          HR  70000.0  2018-08-10\n",
      "3    Diana   28          IT  60000.0  2020-10-05\n",
      "4    Ethan   40  Operations      NaN  2015-02-25\n",
      "      Name  Age Department   Salary JoiningDate\n",
      "0    Alice   25         IT  55000.0  2022-05-15\n",
      "1      Bob   30    Finance      NaN  2021-03-20\n",
      "2  Charlie   35         HR  70000.0  2018-08-10\n",
      "      Name   Salary\n",
      "0    Alice  55000.0\n",
      "1      Bob      NaN\n",
      "2  Charlie  70000.0\n",
      "3    Diana  60000.0\n",
      "4    Ethan      NaN\n",
      "      Name  Age  Department   Salary JoiningDate\n",
      "2  Charlie   35          HR  70000.0  2018-08-10\n",
      "4    Ethan   40  Operations      NaN  2015-02-25\n",
      "Department\n",
      "Finance           NaN\n",
      "HR            70000.0\n",
      "IT            57500.0\n",
      "Operations        NaN\n",
      "Name: Salary, dtype: float64\n",
      "      Name  Age  Department   Salary JoiningDate\n",
      "2  Charlie   35          HR  70000.0  2018-08-10\n",
      "3    Diana   28          IT  60000.0  2020-10-05\n",
      "0    Alice   25          IT  55000.0  2022-05-15\n",
      "1      Bob   30     Finance      NaN  2021-03-20\n",
      "4    Ethan   40  Operations      NaN  2015-02-25\n"
     ]
    }
   ],
   "source": [
    "#to find head of dataframe\n",
    "# Create a sample DataFrame\n",
    "data = {\n",
    "    'Name': ['Alice', 'Bob', 'Charlie', 'Diana', 'Ethan'],\n",
    "    'Age': [25, 30, 35, 28, 40],\n",
    "    'Department': ['IT', 'Finance', 'HR', 'IT', 'Operations'],\n",
    "    'Salary': [55000, np.nan, 70000, 60000, np.nan],\n",
    "    'JoiningDate': ['2022-05-15', '2021-03-20', '2018-08-10', '2020-10-05', '2015-02-25']\n",
    "}\n",
    "df = pd.DataFrame(data)\n",
    "\n",
    "\n",
    "print(df)\n",
    "\n",
    "#viewing data\n",
    "# View the first 3 rows\n",
    "print(df.head(3))\n",
    "\n",
    "# Select 'Name' and 'Salary' columns\n",
    "print(df[['Name', 'Salary']])\n",
    "\n",
    "# Filter rows where Age > 30\n",
    "filtered_df = df[df['Age'] > 30]\n",
    "print(filtered_df)\n",
    "\n",
    "#Calculate average salary by department\n",
    "grouped = df.groupby('Department')['Salary'].mean()\n",
    "print(grouped)\n",
    "\n",
    "# Sort by Salary in descending order\n",
    "sorted_df = df.sort_values(by='Salary', ascending=False)\n",
    "print(sorted_df)"
   ]
  },
  {
   "cell_type": "code",
   "execution_count": 11,
   "id": "66c913d1-f103-4ab4-8837-6e6421e1c934",
   "metadata": {},
   "outputs": [
    {
     "name": "stdout",
     "output_type": "stream",
     "text": [
      "0    False\n",
      "1     True\n",
      "2    False\n",
      "3    False\n",
      "4     True\n",
      "Name: Salary, dtype: bool\n",
      "2\n",
      "      Name  Age  Department        Salary JoiningDate\n",
      "0    Alice   25          IT  55000.000000  2022-05-15\n",
      "1      Bob   30     Finance  61666.666667  2021-03-20\n",
      "2  Charlie   35          HR  70000.000000  2018-08-10\n",
      "3    Diana   28          IT  60000.000000  2020-10-05\n",
      "4    Ethan   40  Operations  61666.666667  2015-02-25\n"
     ]
    }
   ],
   "source": [
    "print(df['Salary'].isnull())\n",
    "print(df['Salary'].isnull().sum()) \n",
    "# Fill missing Salary with the average\n",
    "df['Salary'] = df['Salary'].fillna(df['Salary'].mean())\n",
    "print(df)"
   ]
  },
  {
   "cell_type": "code",
   "execution_count": 12,
   "id": "f8d5b19e-b890-47dd-9b75-65c3f28f9533",
   "metadata": {},
   "outputs": [
    {
     "name": "stdout",
     "output_type": "stream",
     "text": [
      "Original DataFrame:\n",
      "      Name  Marks Grade\n",
      "0    Alice     45     C\n",
      "1      Bob     82     A\n",
      "2  Charlie     56     B\n",
      "3    Diana     30     D\n",
      "4    Ethan     91     A\n",
      "Filtered DataFrame (Marks > 50):\n",
      "      Name  Marks Grade\n",
      "1      Bob     82     A\n",
      "2  Charlie     56     B\n",
      "4    Ethan     91     A\n"
     ]
    }
   ],
   "source": [
    "#TASK\n",
    "\n",
    "import pandas as pd\n",
    "\n",
    "# Create a DataFrame with student data\n",
    "data = {\n",
    "    'Name': ['Alice', 'Bob', 'Charlie', 'Diana', 'Ethan'],\n",
    "    'Marks': [45, 82, 56, 30, 91],\n",
    "    'Grade': ['C', 'A', 'B', 'D', 'A']\n",
    "}\n",
    "\n",
    "df = pd.DataFrame(data)\n",
    "\n",
    "# Filter students with marks > 50\n",
    "filtered_df = df[df['Marks'] > 50]\n",
    "\n",
    "print(\"Original DataFrame:\")\n",
    "print(df)\n",
    "\n",
    "print(\"Filtered DataFrame (Marks > 50):\")\n",
    "print(filtered_df)"
   ]
  },
  {
   "cell_type": "code",
   "execution_count": 13,
   "id": "03ac02a5-bd34-4fe5-a9da-5f9573105da0",
   "metadata": {},
   "outputs": [
    {
     "name": "stdout",
     "output_type": "stream",
     "text": [
      "Filtered DataFrame:\n",
      "      Name  Salary  Experience\n",
      "2  Charlie   70000           8\n",
      "3    David   80000          10\n"
     ]
    }
   ],
   "source": [
    "#TASK\n",
    "import pandas as pd\n",
    "\n",
    "# Create the DataFrame\n",
    "data = {\n",
    "    'Name': ['Alice', 'Bob', 'Charlie', 'David', 'Eva'],\n",
    "    'Age': [25, 30, 35, 40, 45],\n",
    "    'Salary': [50000, 60000, 70000, 80000, 90000],\n",
    "    'Department': ['HR', 'Finance', 'Tech', 'Tech', 'HR'],\n",
    "    'Experience': [2, 5, 8, 10, 12]\n",
    "}\n",
    "\n",
    "df = pd.DataFrame(data)\n",
    "\n",
    "# Apply filtering based on conditions\n",
    "filtered_df = df[(df['Salary'] > 60000) & (df['Experience'] > 5) & (df['Department'] == 'Tech')]\n",
    "\n",
    "# Select specific columns\n",
    "filtered_df = filtered_df[['Name', 'Salary', 'Experience']]\n",
    "\n",
    "print(\"Filtered DataFrame:\")\n",
    "print(filtered_df)"
   ]
  },
  {
   "cell_type": "code",
   "execution_count": 14,
   "id": "9630721f-6f1e-44ef-ba64-5f735e362fcc",
   "metadata": {},
   "outputs": [
    {
     "name": "stdout",
     "output_type": "stream",
     "text": [
      "Top 5 rows of the sorted DataFrame:\n",
      "      Name  Age  Salary Department  Experience\n",
      "5    Frank   32   90000    Finance           7\n",
      "3    David   28   80000    Finance           6\n",
      "8      Ian   31   67000    Finance           6\n",
      "2  Charlie   35   55000         HR           4\n",
      "0    Alice   25   50000         HR           2\n"
     ]
    }
   ],
   "source": [
    "#TASK\n",
    "import pandas as pd\n",
    "\n",
    "# Create a DataFrame with sample employee data\n",
    "data = {\n",
    "    'Name': ['Alice', 'Bob', 'Charlie', 'David', 'Eva', \n",
    "             'Frank', 'Grace', 'Hannah', 'Ian', 'Jack'],\n",
    "    'Age': [25, 30, 35, 28, 40, 32, 27, 29, 31, 33],\n",
    "    'Salary': [50000, 60000, 55000, 80000, 75000, \n",
    "               90000, 40000, 72000, 67000, 85000],\n",
    "    'Department': ['HR', 'Tech', 'HR', 'Finance', 'Tech', \n",
    "                   'Finance', 'HR', 'Tech', 'Finance', 'Tech'],\n",
    "    'Experience': [2, 5, 4, 6, 8, 7, 3, 4, 6, 10]\n",
    "}\n",
    "\n",
    "df = pd.DataFrame(data)\n",
    "\n",
    "# Sort by Department (ascending) and Salary (descending)\n",
    "sorted_df = df.sort_values(by=['Department', 'Salary'], ascending=[True, False])\n",
    "sorted_df\n",
    "# Display the top 5 rows of the sorted DataFrame\n",
    "print(\"Top 5 rows of the sorted DataFrame:\")\n",
    "print(sorted_df.head(5))\n"
   ]
  },
  {
   "cell_type": "code",
   "execution_count": 15,
   "id": "b5e1f08c-c91c-4f5b-b52d-11ecbd4e4328",
   "metadata": {},
   "outputs": [
    {
     "name": "stdout",
     "output_type": "stream",
     "text": [
      "Original DataFrame:\n",
      "      Name   Age  Department   Salary\n",
      "0    Alice  25.0          IT  55000.0\n",
      "1      Bob  30.0     Finance  65000.0\n",
      "2  Charlie   NaN          HR  70000.0\n",
      "3    Diana  28.0          IT  60000.0\n",
      "4    Ethan  40.0  Operations      NaN\n",
      "5    Alice  25.0          IT  55000.0\n"
     ]
    }
   ],
   "source": [
    " #DATA MANIPULATION WITH PANDAS\n",
    " #Handling missing values and duplicates\n",
    "\n",
    "import pandas as pd\n",
    "import numpy as np\n",
    "\n",
    "# Create a sample DataFrame with missing values and duplicates\n",
    "data = {\n",
    "    'Name': ['Alice', 'Bob', 'Charlie', 'Diana', 'Ethan', 'Alice'],\n",
    "    'Age': [25, 30, np.nan, 28, 40, 25],\n",
    "    'Department': ['IT', 'Finance', 'HR', 'IT', 'Operations', 'IT'],\n",
    "    'Salary': [55000, 65000, 70000, 60000, np.nan, 55000]\n",
    "}\n",
    "\n",
    "df = pd.DataFrame(data)\n",
    "print(\"Original DataFrame:\")\n",
    "print(df)"
   ]
  },
  {
   "cell_type": "code",
   "execution_count": 16,
   "id": "81b01420-bc96-4d18-975b-3668066beff0",
   "metadata": {},
   "outputs": [
    {
     "name": "stdout",
     "output_type": "stream",
     "text": [
      "Name          0\n",
      "Age           1\n",
      "Department    0\n",
      "Salary        1\n",
      "dtype: int64\n"
     ]
    }
   ],
   "source": [
    "#Detect Missing Values\n",
    "# Check for missing values\n",
    "print(df.isnull().sum())"
   ]
  },
  {
   "cell_type": "code",
   "execution_count": 17,
   "id": "f880621f-e049-490d-b12e-987700020b9d",
   "metadata": {},
   "outputs": [
    {
     "name": "stdout",
     "output_type": "stream",
     "text": [
      "    Name   Age Department   Salary\n",
      "0  Alice  25.0         IT  55000.0\n",
      "1    Bob  30.0    Finance  65000.0\n",
      "3  Diana  28.0         IT  60000.0\n",
      "5  Alice  25.0         IT  55000.0\n"
     ]
    }
   ],
   "source": [
    "#Drop Missing Values\n",
    "df_dropped_rows = df.dropna()\n",
    "print(df_dropped_rows)"
   ]
  },
  {
   "cell_type": "code",
   "execution_count": 18,
   "id": "c8360e7a-4d69-4cb4-8235-c974fcbe2238",
   "metadata": {},
   "outputs": [
    {
     "data": {
      "text/html": [
       "<div>\n",
       "<style scoped>\n",
       "    .dataframe tbody tr th:only-of-type {\n",
       "        vertical-align: middle;\n",
       "    }\n",
       "\n",
       "    .dataframe tbody tr th {\n",
       "        vertical-align: top;\n",
       "    }\n",
       "\n",
       "    .dataframe thead th {\n",
       "        text-align: right;\n",
       "    }\n",
       "</style>\n",
       "<table border=\"1\" class=\"dataframe\">\n",
       "  <thead>\n",
       "    <tr style=\"text-align: right;\">\n",
       "      <th></th>\n",
       "      <th>Name</th>\n",
       "      <th>Department</th>\n",
       "    </tr>\n",
       "  </thead>\n",
       "  <tbody>\n",
       "    <tr>\n",
       "      <th>0</th>\n",
       "      <td>Alice</td>\n",
       "      <td>IT</td>\n",
       "    </tr>\n",
       "    <tr>\n",
       "      <th>1</th>\n",
       "      <td>Bob</td>\n",
       "      <td>Finance</td>\n",
       "    </tr>\n",
       "    <tr>\n",
       "      <th>2</th>\n",
       "      <td>Charlie</td>\n",
       "      <td>HR</td>\n",
       "    </tr>\n",
       "    <tr>\n",
       "      <th>3</th>\n",
       "      <td>Diana</td>\n",
       "      <td>IT</td>\n",
       "    </tr>\n",
       "    <tr>\n",
       "      <th>4</th>\n",
       "      <td>Ethan</td>\n",
       "      <td>Operations</td>\n",
       "    </tr>\n",
       "    <tr>\n",
       "      <th>5</th>\n",
       "      <td>Alice</td>\n",
       "      <td>IT</td>\n",
       "    </tr>\n",
       "  </tbody>\n",
       "</table>\n",
       "</div>"
      ],
      "text/plain": [
       "      Name  Department\n",
       "0    Alice          IT\n",
       "1      Bob     Finance\n",
       "2  Charlie          HR\n",
       "3    Diana          IT\n",
       "4    Ethan  Operations\n",
       "5    Alice          IT"
      ]
     },
     "execution_count": 18,
     "metadata": {},
     "output_type": "execute_result"
    }
   ],
   "source": [
    "df_dropped_rows = df.dropna(axis=1)\n",
    "df_dropped_rows  #missing value with columns are removed"
   ]
  },
  {
   "cell_type": "code",
   "execution_count": 19,
   "id": "2a270c04-2b68-4ae0-a6dd-4c7fa72fbd67",
   "metadata": {},
   "outputs": [
    {
     "name": "stdout",
     "output_type": "stream",
     "text": [
      "      Name   Age  Department   Salary\n",
      "0    Alice  25.0          IT  55000.0\n",
      "1      Bob  30.0     Finance  65000.0\n",
      "2  Charlie  29.6          HR  70000.0\n",
      "3    Diana  28.0          IT  60000.0\n",
      "4    Ethan  40.0  Operations  60000.0\n",
      "5    Alice  25.0          IT  55000.0\n"
     ]
    }
   ],
   "source": [
    "#Fill missing values with the column mean\n",
    "df['Age'] = df['Age'].fillna(df['Age'].mean())\n",
    "df['Salary'] = df['Salary'].fillna(df['Salary'].median())\n",
    "print(df)"
   ]
  },
  {
   "cell_type": "code",
   "execution_count": 20,
   "id": "dfafc774-fec7-4cc6-adcf-f17e87c4f8e3",
   "metadata": {},
   "outputs": [
    {
     "name": "stdout",
     "output_type": "stream",
     "text": [
      "0    False\n",
      "1    False\n",
      "2    False\n",
      "3    False\n",
      "4    False\n",
      "5     True\n",
      "dtype: bool\n"
     ]
    }
   ],
   "source": [
    "#Handling Duplicates\n",
    "#Detect Duplicates\n",
    "# Check for duplicate \n",
    "duplicates = df.duplicated()\n",
    "print(duplicates)"
   ]
  },
  {
   "cell_type": "code",
   "execution_count": 21,
   "id": "0bf0a029-200e-4d68-8593-adce2e1b77eb",
   "metadata": {},
   "outputs": [
    {
     "name": "stdout",
     "output_type": "stream",
     "text": [
      "      Name   Age  Department   Salary\n",
      "0    Alice  25.0          IT  55000.0\n",
      "1      Bob  30.0     Finance  65000.0\n",
      "2  Charlie  29.6          HR  70000.0\n",
      "3    Diana  28.0          IT  60000.0\n",
      "4    Ethan  40.0  Operations  60000.0\n"
     ]
    }
   ],
   "source": [
    "#drop duplicates\n",
    "# Drop duplicate rows, keeping the first occurrence\n",
    "df_no_duplicates = df.drop_duplicates()\n",
    "print(df_no_duplicates)"
   ]
  },
  {
   "cell_type": "code",
   "execution_count": 22,
   "id": "ce3c2cde-178d-4cff-9207-6fe936f13ef3",
   "metadata": {},
   "outputs": [
    {
     "name": "stdout",
     "output_type": "stream",
     "text": [
      "   ID     Name  Score\n",
      "0   2      Bob     85\n",
      "1   3  Charlie     90\n"
     ]
    }
   ],
   "source": [
    "import pandas as pd\n",
    "#merging\n",
    "# Creating datasets\n",
    "df1 = pd.DataFrame({\n",
    "    'ID': [1, 2, 3],\n",
    "    'Name': ['Alice', 'Bob', 'Charlie']\n",
    "})\n",
    "\n",
    "df2 = pd.DataFrame({\n",
    "    'ID': [2, 3, 4],\n",
    "    'Score': [85, 90, 95]\n",
    "})\n",
    "\n",
    "# Merge on a common column\n",
    "merged = pd.merge(df1, df2)  # Inner Join\n",
    "print(merged)"
   ]
  },
  {
   "cell_type": "code",
   "execution_count": 23,
   "id": "9a81e8ed-e3f4-46ff-b263-e91de7ef7032",
   "metadata": {},
   "outputs": [
    {
     "name": "stdout",
     "output_type": "stream",
     "text": [
      "      Name  Score Grade\n",
      "0    Alice     85     B\n",
      "1      Bob     90     A\n",
      "2  Charlie     95     A\n"
     ]
    }
   ],
   "source": [
    "#joining\n",
    "df3 = pd.DataFrame({\n",
    "    'Score': [85, 90, 95],\n",
    "    'Grade': ['B', 'A', 'A']})\n",
    "\n",
    "df4 = pd.DataFrame({\n",
    "    'Name': ['Alice', 'Bob', 'Charlie']})\n",
    "\n",
    "# Join on index\n",
    "joined = df4.join(df3)\n",
    "print(joined)"
   ]
  },
  {
   "cell_type": "code",
   "execution_count": 24,
   "id": "8cfe9d9e-40c5-4b59-8b1b-4798d35c1ef1",
   "metadata": {},
   "outputs": [
    {
     "name": "stdout",
     "output_type": "stream",
     "text": [
      "      Name  Score\n",
      "0    Alice     85\n",
      "1      Bob     90\n",
      "0  Charlie     95\n",
      "1    David     80\n"
     ]
    }
   ],
   "source": [
    "#concatenation\n",
    "df5 = pd.DataFrame({'Name': ['Alice', 'Bob'], 'Score': [85, 90]})\n",
    "df6 = pd.DataFrame({'Name': ['Charlie', 'David'], 'Score': [95, 80]})\n",
    "\n",
    "# Concatenate row-wise\n",
    "concat_rows = pd.concat([df5, df6])\n",
    "print(concat_rows)"
   ]
  },
  {
   "cell_type": "code",
   "execution_count": 25,
   "id": "54ab8ec0-42b5-44c0-a5d8-f06aa1073565",
   "metadata": {},
   "outputs": [],
   "source": [
    "#import pandas as pd\n",
    "\n",
    "# Reading a CSV file\n",
    "#csv_file_path = \"path/to/your/file.csv\"\n",
    "#csv_data = pd.read_csv(csv_file_path)"
   ]
  },
  {
   "cell_type": "code",
   "execution_count": 26,
   "id": "5eae480f-b368-4917-b988-1f4b28840d1e",
   "metadata": {},
   "outputs": [],
   "source": [
    "# Reading an Excel file\n",
    "#excel_file_path = \"path/to/your/file.xlsx\"\n",
    "#excel_data = pd.read_excel(excel_file_path)"
   ]
  },
  {
   "cell_type": "code",
   "execution_count": 27,
   "id": "646ea224-278d-4a73-bb3f-ad457febd8ef",
   "metadata": {},
   "outputs": [
    {
     "name": "stdout",
     "output_type": "stream",
     "text": [
      "Filtered Data:\n",
      "   PassengerId  Pclass                          Name     Sex   Age  SibSp  \\\n",
      "1            2       2    Cumings, Mrs. John Bradley  female  38.0      1   \n",
      "3            4       1  Futrelle, Mrs. Jacques Heath  female  35.0      1   \n",
      "\n",
      "   Parch     Fare Embarked  \n",
      "1      0  71.2833        C  \n",
      "3      1  53.1000        C  \n",
      "\n",
      "Average Fare by Class:\n",
      "Pclass\n",
      "1    30.1750\n",
      "2    71.2833\n",
      "3     7.9875\n",
      "Name: Fare, dtype: float64\n"
     ]
    },
    {
     "name": "stderr",
     "output_type": "stream",
     "text": [
      "C:\\Users\\hp\\AppData\\Local\\Temp\\ipykernel_8740\\3377886587.py:13: FutureWarning: A value is trying to be set on a copy of a DataFrame or Series through chained assignment using an inplace method.\n",
      "The behavior will change in pandas 3.0. This inplace method will never work because the intermediate object on which we are setting values always behaves as a copy.\n",
      "\n",
      "For example, when doing 'df[col].method(value, inplace=True)', try using 'df.method({col: value}, inplace=True)' or df[col] = df[col].method(value) instead, to perform the operation inplace on the original object.\n",
      "\n",
      "\n",
      "  titanic_data['Age'].fillna(titanic_data['Age'].median(), inplace=True)\n",
      "C:\\Users\\hp\\AppData\\Local\\Temp\\ipykernel_8740\\3377886587.py:14: FutureWarning: A value is trying to be set on a copy of a DataFrame or Series through chained assignment using an inplace method.\n",
      "The behavior will change in pandas 3.0. This inplace method will never work because the intermediate object on which we are setting values always behaves as a copy.\n",
      "\n",
      "For example, when doing 'df[col].method(value, inplace=True)', try using 'df.method({col: value}, inplace=True)' or df[col] = df[col].method(value) instead, to perform the operation inplace on the original object.\n",
      "\n",
      "\n",
      "  titanic_data['Embarked'].fillna(titanic_data['Embarked'].mode()[0], inplace=True)  # Filling Embarked with the most frequent value\n"
     ]
    }
   ],
   "source": [
    "#TASK\n",
    "import pandas as pd\n",
    "\n",
    "# Load the dataset\n",
    "titanic_data = pd.read_csv(\"C:/Users/hp/Downloads/titanic_with_missing_values.csv\")  # Adjust the file path if needed\n",
    "# Check for missing values\n",
    "missing_values = titanic_data.isnull().sum()\n",
    "\n",
    "# Option 1: Drop rows with missing values\n",
    "titanic_data_clean = titanic_data.dropna()\n",
    "\n",
    "# Option 2: Fill missing values (example: filling Age with the median)\n",
    "titanic_data['Age'].fillna(titanic_data['Age'].median(), inplace=True)\n",
    "titanic_data['Embarked'].fillna(titanic_data['Embarked'].mode()[0], inplace=True)  # Filling Embarked with the most frequent value\n",
    "\n",
    "filtered_data = titanic_data[(titanic_data['Age'] > 18) & (titanic_data['Fare'] > 50)]\n",
    "print(\"Filtered Data:\")\n",
    "print(filtered_data)\n",
    "\n",
    "# Compute average fare by class\n",
    "avg_fare_by_class = titanic_data.groupby('Pclass')['Fare'].mean()\n",
    "print(\"\\nAverage Fare by Class:\")\n",
    "print(avg_fare_by_class)"
   ]
  },
  {
   "cell_type": "code",
   "execution_count": 28,
   "id": "77ce86f5-caf6-43fb-82ea-b1c9cdebe815",
   "metadata": {},
   "outputs": [
    {
     "name": "stdout",
     "output_type": "stream",
     "text": [
      "   EmployeeID   Age Department  Salary Joining_Date\n",
      "0           1  25.0         IT   60000   15-01-2018\n",
      "1           2  34.0         HR   50000   22-03-2017\n",
      "2           3   NaN         IT   70000   19-07-2016\n",
      "3           4  29.0        NaN   45000   11-11-2019\n",
      "4           5  42.0      Sales   75000   05-02-2020\n"
     ]
    }
   ],
   "source": [
    "import pandas as pd\n",
    "\n",
    "# Load the employee dataset\n",
    "employee_data = pd.read_csv('C:/Users/hp/Downloads/employee_data.csv')  # Adjust the file path if needed\n",
    "\n",
    "print(employee_data)"
   ]
  },
  {
   "cell_type": "code",
   "execution_count": 29,
   "id": "07183193-3026-45d7-9a54-99aa02cacb6c",
   "metadata": {},
   "outputs": [
    {
     "name": "stdout",
     "output_type": "stream",
     "text": [
      "Missing Values:\n",
      "EmployeeID      0\n",
      "Age             1\n",
      "Department      1\n",
      "Salary          0\n",
      "Joining_Date    0\n",
      "dtype: int64\n"
     ]
    }
   ],
   "source": [
    "# Step 1: Check for missing values\n",
    "missing_values = employee_data.isnull().sum()\n",
    "print(\"Missing Values:\")\n",
    "print(missing_values)"
   ]
  },
  {
   "cell_type": "code",
   "execution_count": 30,
   "id": "038619fc-1151-48c9-ba55-1efc5b7ae5d2",
   "metadata": {},
   "outputs": [],
   "source": [
    "# Step 2: Fill missing values\n",
    "# Example: Fill 'Age' with the median age and 'Department' with the most frequent value\n",
    "employee_data['Age'] = employee_data['Age'].fillna(employee_data['Age'].median())\n",
    "employee_data['Department'] = employee_data['Department'].fillna(employee_data['Department'].mode()[0])"
   ]
  },
  {
   "cell_type": "code",
   "execution_count": 31,
   "id": "97f25357-e884-4725-b0e2-08f3484b65d5",
   "metadata": {},
   "outputs": [
    {
     "name": "stdout",
     "output_type": "stream",
     "text": [
      "\n",
      "Filtered Data:\n",
      "   EmployeeID   Age Department  Salary Joining_Date\n",
      "2           3  31.5         IT   70000   19-07-2016\n",
      "4           5  42.0      Sales   75000   05-02-2020\n"
     ]
    }
   ],
   "source": [
    "# Step 3: Filter data\n",
    "# Example: Filter employees older than 30 years and earning a salary greater than 50,000\n",
    "filtered_data = employee_data[(employee_data['Age'] > 30) & (employee_data['Salary'] > 50000)]\n",
    "print(\"\\nFiltered Data:\")\n",
    "print(filtered_data)"
   ]
  },
  {
   "cell_type": "code",
   "execution_count": 32,
   "id": "764f4fcf-9789-422a-ad25-b22b2895da6f",
   "metadata": {},
   "outputs": [
    {
     "name": "stdout",
     "output_type": "stream",
     "text": [
      "\n",
      "Average Salary by Department:\n",
      "Department\n",
      "HR       50000.000000\n",
      "IT       58333.333333\n",
      "Sales    75000.000000\n",
      "Name: Salary, dtype: float64\n"
     ]
    }
   ],
   "source": [
    "# Step 4: Compute the average salary by department\n",
    "avg_salary_by_department = employee_data.groupby('Department')['Salary'].mean()\n",
    "print(\"\\nAverage Salary by Department:\")\n",
    "print(avg_salary_by_department)"
   ]
  },
  {
   "cell_type": "code",
   "execution_count": null,
   "id": "9cd086f9-b84c-48f9-a598-8cd120cd3169",
   "metadata": {},
   "outputs": [],
   "source": []
  }
 ],
 "metadata": {
  "kernelspec": {
   "display_name": "Python 3 (ipykernel)",
   "language": "python",
   "name": "python3"
  },
  "language_info": {
   "codemirror_mode": {
    "name": "ipython",
    "version": 3
   },
   "file_extension": ".py",
   "mimetype": "text/x-python",
   "name": "python",
   "nbconvert_exporter": "python",
   "pygments_lexer": "ipython3",
   "version": "3.13.1"
  }
 },
 "nbformat": 4,
 "nbformat_minor": 5
}
