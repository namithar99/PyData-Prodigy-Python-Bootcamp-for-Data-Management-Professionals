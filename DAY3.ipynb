{
 "cells": [
  {
   "cell_type": "code",
   "execution_count": 1,
   "id": "a0ba29a8-9e2d-4359-915b-f6dc229854de",
   "metadata": {},
   "outputs": [
    {
     "name": "stdout",
     "output_type": "stream",
     "text": [
      "1D Array: [1 2 3 4]\n",
      "2D Array:\n",
      " [[1 2]\n",
      " [3 4]]\n",
      "Array Addition: [3 4 5 6]\n",
      "Dot Product:\n",
      " [[3]\n",
      " [7]]\n"
     ]
    }
   ],
   "source": [
    "#pip install numpy\n",
    "import numpy as np\n",
    "\n",
    "# Create a 1D array\n",
    "array_1d = np.array([1, 2, 3, 4])\n",
    "print(\"1D Array:\", array_1d)\n",
    "\n",
    "# Create a 2D array\n",
    "array_2d = np.array([[1, 2], [3, 4]])\n",
    "print(\"2D Array:\\n\", array_2d)\n",
    "\n",
    "# Perform array addition\n",
    "result = array_1d + 2\n",
    "print(\"Array Addition:\", result)\n",
    "\n",
    "# Compute the dot product of two arrays\n",
    "dot_product = np.dot(array_2d, [[1], [1]])\n",
    "print(\"Dot Product:\\n\", dot_product)"
   ]
  },
  {
   "cell_type": "code",
   "execution_count": 2,
   "id": "bb880777-be90-45fc-bac4-75263b2f667d",
   "metadata": {},
   "outputs": [
    {
     "name": "stdout",
     "output_type": "stream",
     "text": [
      "[1 2 3 4]\n",
      "[5 6 7]\n"
     ]
    }
   ],
   "source": [
    "# lists or tuples into NumPy arrays using np.array()\n",
    "import numpy as np\n",
    "\n",
    "# From a list\n",
    "array_from_list = np.array([1, 2, 3, 4])\n",
    "print(array_from_list)\n",
    "\n",
    "# From a tuple\n",
    "array_from_tuple = np.array((5, 6, 7))\n",
    "print(array_from_tuple)"
   ]
  },
  {
   "cell_type": "code",
   "execution_count": 3,
   "id": "e2b8ec09-c206-4caa-aa35-2f9f80ef19e6",
   "metadata": {},
   "outputs": [
    {
     "name": "stdout",
     "output_type": "stream",
     "text": [
      "[[7 7 7]\n",
      " [7 7 7]\n",
      " [7 7 7]]\n",
      "[1 3 5 7 9]\n",
      "[0.   0.25 0.5  0.75 1.  ]\n",
      "[[7 3 7]\n",
      " [7 7 7]\n",
      " [5 5 1]]\n",
      "[[1. 0. 0. 0.]\n",
      " [0. 1. 0. 0.]\n",
      " [0. 0. 1. 0.]\n",
      " [0. 0. 0. 1.]]\n",
      "[[1 0 0]\n",
      " [0 2 0]\n",
      " [0 0 3]]\n"
     ]
    }
   ],
   "source": [
    "#Using Built-in Functions\n",
    "#Zeros and Ones\n",
    "\n",
    "zeros_array = np.zeros((3, 3))  # 3x3 array of zeros\n",
    "ones_array = np.ones((2, 4))   # 2x4 array of ones\n",
    "zeros_array\n",
    "ones_array\n",
    "\n",
    "#Empty Array (uninitialized array (values are random)\n",
    "empty_array = np.empty((2, 2))\n",
    "empty_array\n",
    "\n",
    "#full array\n",
    "full_array = np.full((3, 3), 7)  # 3x3 array filled with 7\n",
    "print(full_array)\n",
    "\n",
    "#using range \n",
    "\n",
    "#(np.arange(start, stop, step)\n",
    "\n",
    "range_array = np.arange(1, 10, 2)  \n",
    "print(range_array)\n",
    "\n",
    "linspace_array = np.linspace(0, 1, 5)  # equal division btw 0 & 1 into 5 parts\n",
    "print(linspace_array)\n",
    "\n",
    "# Random Arrays\n",
    "random_integers = np.random.randint(0, 10, (3, 3))\n",
    "print(random_integers)\n",
    "\n",
    "#Identity and Diagonal Matrice\n",
    "#4=n (n*n matrix)\n",
    "\n",
    "identity_matrix = np.eye(4)\n",
    "print(identity_matrix)\n",
    "\n",
    "diagonal_matrix = np.diag([1, 2, 3])\n",
    "print(diagonal_matrix)"
   ]
  },
  {
   "cell_type": "code",
   "execution_count": 4,
   "id": "9a8ec53a-578f-4006-8c7d-75f96ae0640b",
   "metadata": {},
   "outputs": [
    {
     "name": "stdout",
     "output_type": "stream",
     "text": [
      "Array Shape: (2, 3)\n",
      "Array Size: 6\n",
      "Array Dimensions: 2\n",
      "Data Type: int64\n"
     ]
    }
   ],
   "source": [
    "#Array Properties\n",
    "arr = np.array([[1, 2, 3], [4, 5, 6]])\n",
    "\n",
    "print(\"Array Shape:\", arr.shape)  # (2, 3) -> 2 rows, 3 columns\n",
    "print(\"Array Size:\", arr.size)    # Total number of elements (6)\n",
    "print(\"Array Dimensions:\", arr.ndim)  # Number of dimensions (2)\n",
    "print(\"Data Type:\", arr.dtype)    # Data type of elements (int64) #64bit"
   ]
  },
  {
   "cell_type": "code",
   "execution_count": 5,
   "id": "7c60596b-1a8f-4721-9f45-8acfc78bf690",
   "metadata": {},
   "outputs": [
    {
     "data": {
      "text/plain": [
       "array([[0., 0., 0., 1., 1., 1.],\n",
       "       [0., 0., 0., 1., 1., 1.],\n",
       "       [0., 0., 0., 1., 1., 1.]])"
      ]
     },
     "execution_count": 5,
     "metadata": {},
     "output_type": "execute_result"
    }
   ],
   "source": [
    "#Combining Arrays\n",
    "import numpy as np\n",
    "\n",
    "# Create two 3x3 arrays: one filled with zeros, the other with ones\n",
    "zeros_array = np.zeros((3, 3))\n",
    "ones_array = np.ones((3, 3))\n",
    "combined_array = np.hstack((zeros_array, ones_array))\n",
    "combined_array "
   ]
  },
  {
   "cell_type": "code",
   "execution_count": 6,
   "id": "881dc220-d90c-4761-a78f-b05bb79e1890",
   "metadata": {},
   "outputs": [
    {
     "name": "stdout",
     "output_type": "stream",
     "text": [
      "Element at (0, 1): 20\n",
      "First Row: [10 20 30]\n",
      "First Column: [10 40]\n",
      "Sub-array:\n",
      " [[20 30]\n",
      " [50 60]]\n",
      "Reshaped Array:\n",
      " [[1 2 3]\n",
      " [4 5 6]]\n",
      "Elements greater than 25: [30 40 50]\n"
     ]
    }
   ],
   "source": [
    "#Indexing:Access individual elements\n",
    "\n",
    "arr = np.array([[10, 20, 30], [40, 50, 60]])\n",
    "print(\"Element at (0, 1):\", arr[0, 1])\n",
    "\n",
    "#Slicing:Extract a sub-array\n",
    "# Extract first row\n",
    "print(\"First Row:\", arr[0, :])\n",
    "\n",
    "# Extract first column\n",
    "print(\"First Column:\", arr[:, 0])\n",
    "\n",
    "# Extract a 2x2 sub-array\n",
    "print(\"Sub-array:\\n\", arr[0:2, 1:3])\n",
    "\n",
    "#Reshaping Arrays:Change the dimensions of an array\n",
    "arr = np.array([1, 2, 3, 4, 5, 6])\n",
    "reshaped = arr.reshape((2, 3))\n",
    "print(\"Reshaped Array:\\n\", reshaped)\n",
    "\n",
    "#Boolean Indexing\n",
    "\n",
    "# Create a 1D array\n",
    "arr = np.array([10, 20, 30, 40, 50])\n",
    "\n",
    "# Boolean indexing to select elements greater than 25\n",
    "selected_elements = arr[arr > 25]\n",
    "print(\"Elements greater than 25:\", selected_elements)\n"
   ]
  },
  {
   "cell_type": "code",
   "execution_count": 7,
   "id": "4b21d643-62bd-4657-9c53-ee299a480e72",
   "metadata": {},
   "outputs": [
    {
     "name": "stdout",
     "output_type": "stream",
     "text": [
      "Random Matrix:\n",
      " [[0.55961908 0.45817859 0.12387362]\n",
      " [0.56369398 0.89125671 0.21576815]\n",
      " [0.84204414 0.61479454 0.4400061 ]]\n",
      "Symmetric Matrix:\n",
      " [[0.55961908 0.51093628 0.48295888]\n",
      " [0.51093628 0.89125671 0.41528134]\n",
      " [0.48295888 0.41528134 0.4400061 ]]\n"
     ]
    }
   ],
   "source": [
    "#TASK  :Creating a Symmetric Matrix AATRANSPOSE\n",
    "#Dividing by 2 ensures that the off-diagonal elements are symmetrized\n",
    "\n",
    "import numpy as np\n",
    "\n",
    "# Create a random 3x3 matrix\n",
    "random_matrix = np.random.rand(3, 3)\n",
    "print(\"Random Matrix:\\n\", random_matrix)\n",
    "\n",
    "# Generate a symmetric matrix by averaging the original matrix and its transpose\n",
    "symmetric_matrix = (random_matrix + random_matrix.T) / 2\n",
    "print(\"Symmetric Matrix:\\n\", symmetric_matrix)"
   ]
  },
  {
   "cell_type": "code",
   "execution_count": 8,
   "id": "15903fbf-3060-41f1-8df8-997ec88451ab",
   "metadata": {},
   "outputs": [
    {
     "name": "stdout",
     "output_type": "stream",
     "text": [
      "2D Array filled with random integers:\n",
      "[[32 50 15  2 39]\n",
      " [38 51 65 77 67]\n",
      " [73 25 26 19 50]\n",
      " [69 57  7 46 48]]\n"
     ]
    }
   ],
   "source": [
    "#TASK 1:\n",
    "import numpy as np\n",
    "\n",
    "# Create a 2D array of shape (4, 5) with random integers between 0 and 100\n",
    "random_array = np.random.randint(0, 80, size=(4, 5))\n",
    "\n",
    "print(\"2D Array filled with random integers:\")\n",
    "print(random_array)"
   ]
  },
  {
   "cell_type": "code",
   "execution_count": 9,
   "id": "84fee7bb-12bd-4f77-be8e-85a5de3b267c",
   "metadata": {},
   "outputs": [
    {
     "name": "stdout",
     "output_type": "stream",
     "text": [
      "Matrix Multiplication Result:\n",
      " [[ 1  4]\n",
      " [ 3  8]\n",
      " [ 5 12]]\n"
     ]
    }
   ],
   "source": [
    "#TASK2\n",
    "#TASK:\n",
    "#Given a 3x2 matrix A and a 1D array B of size 2, perform element-wise multiplication using broadcasting. The elements of B should be applied to each row of A, and the resulting matrix should be printed.\n",
    "#Input:\n",
    "\n",
    "#Matrix A: [[1, 2], [3, 4], [5, 6]]\n",
    "#Array B: [1, 2]\n",
    "import numpy as np\n",
    "\n",
    "# Arrays A and B\n",
    "A = np.array([[1, 2], [3, 4], [5, 6]])\n",
    "B = np.array([1, 2])\n",
    "\n",
    "# Matrix multiplication using broadcasting\n",
    "result = A * B  # Broadcasting automatically scales B across rows of A\n",
    "print(\"Matrix Multiplication Result:\\n\", result)"
   ]
  },
  {
   "cell_type": "code",
   "execution_count": 10,
   "id": "18826818-d41c-45ea-9326-734d12a56148",
   "metadata": {},
   "outputs": [
    {
     "name": "stdout",
     "output_type": "stream",
     "text": [
      "Extracted Submatrix:\n",
      " [[ 6  7]\n",
      " [10 11]]\n"
     ]
    },
    {
     "data": {
      "text/plain": [
       "array([[ 5,  6,  7,  8],\n",
       "       [ 9, 10, 11, 12]])"
      ]
     },
     "execution_count": 10,
     "metadata": {},
     "output_type": "execute_result"
    }
   ],
   "source": [
    "#SUBMATRIX\n",
    "\n",
    "# Create a 2D array\n",
    "arr_2d = np.array([[1, 2, 3, 4], [5, 6, 7, 8], [9, 10, 11, 12], [13, 14, 15, 16]])\n",
    "\n",
    "# Extract a 2x2 submatrix from the center\n",
    "submatrix1 = arr_2d[1:3, ]\n",
    "submatrix = arr_2d[1:3, 1:3]\n",
    "print(\"Extracted Submatrix:\\n\", submatrix)\n",
    "submatrix1\n"
   ]
  },
  {
   "cell_type": "code",
   "execution_count": 11,
   "id": "579cd383-a7e2-4991-85ac-a8b91073628a",
   "metadata": {},
   "outputs": [
    {
     "name": "stdout",
     "output_type": "stream",
     "text": [
      "Original Array: [ 1  2  3  4  5  6  7  8  9 10 11 12]\n",
      "Reshaped Array (3x4):\n",
      " [[ 1  2  3  4]\n",
      " [ 5  6  7  8]\n",
      " [ 9 10 11 12]]\n"
     ]
    }
   ],
   "source": [
    "# Reshaping a 1D Array into a 2D Array\n",
    "# Create a 1D array with 12 elements\n",
    "arr = np.arange(1, 13)\n",
    "\n",
    "# Reshape the 1D array into a 2D array with 3 rows and 4 columns\n",
    "reshaped_arr = arr.reshape(3, 4)\n",
    "\n",
    "print(\"Original Array:\", arr)\n",
    "print(\"Reshaped Array (3x4):\\n\", reshaped_arr)\n"
   ]
  },
  {
   "cell_type": "code",
   "execution_count": 12,
   "id": "daad6574-a10b-4304-8b91-71a511803b64",
   "metadata": {},
   "outputs": [
    {
     "name": "stdout",
     "output_type": "stream",
     "text": [
      "Addition: [ 6  8 10 12]\n",
      "Subtraction: [-4 -4 -4 -4]\n",
      "Multiplication: [ 5 12 21 32]\n",
      "Division: [0.2        0.33333333 0.42857143 0.5       ]\n"
     ]
    }
   ],
   "source": [
    "#Addition, Subtraction, Multiplication, Division :array\n",
    "# import numpy as np\n",
    "# Create two arrays\n",
    "arr1 = np.array([1, 2, 3, 4])\n",
    "arr2 = np.array([5, 6, 7, 8])\n",
    "\n",
    "# Element-wise addition\n",
    "add_result = arr1 + arr2\n",
    "\n",
    "# Element-wise subtraction\n",
    "sub_result = arr1 - arr2\n",
    "\n",
    "# Element-wise multiplication\n",
    "mul_result = arr1 * arr2\n",
    "\n",
    "# Element-wise division\n",
    "div_result = arr1 / arr2\n",
    "\n",
    "print(\"Addition:\", add_result)\n",
    "print(\"Subtraction:\", sub_result)\n",
    "print(\"Multiplication:\", mul_result)\n",
    "print(\"Division:\", div_result)"
   ]
  },
  {
   "cell_type": "code",
   "execution_count": 13,
   "id": "0a53b594-cc1a-4ba4-9188-4241b7251fa9",
   "metadata": {},
   "outputs": [
    {
     "name": "stdout",
     "output_type": "stream",
     "text": [
      "Add 5 to each element: [6 7 8 9]\n",
      "Multiply each element by 2: [2 4 6 8]\n"
     ]
    }
   ],
   "source": [
    "#Operations with Scalars:You can perform arithmetic operations between an array and a scalar (a single number).\n",
    "# Scalar addition\n",
    "print(\"Add 5 to each element:\", arr1 + 5)  # [15, 25, 35]\n",
    "\n",
    "# Scalar multiplication\n",
    "print(\"Multiply each element by 2:\", arr1 * 2)  # [20, 40, 60]"
   ]
  },
  {
   "cell_type": "code",
   "execution_count": 14,
   "id": "ed4f0828-32e9-4698-8021-a79217733219",
   "metadata": {},
   "outputs": [
    {
     "name": "stdout",
     "output_type": "stream",
     "text": [
      "Exponential: [ 2.71828183  7.3890561  20.08553692]\n",
      "Natural Log: [0.         0.69314718 1.09861229]\n"
     ]
    }
   ],
   "source": [
    "#element-wise operation\n",
    "# Exponentials and logarithms\n",
    "arr = np.array([1, 2, 3])\n",
    "\n",
    "print(\"Exponential:\", np.exp(arr)) \n",
    "print(\"Natural Log:\", np.log(arr))  "
   ]
  },
  {
   "cell_type": "code",
   "execution_count": 15,
   "id": "818eaadf-6cfa-49ab-9cb0-0ae373eadf8a",
   "metadata": {},
   "outputs": [
    {
     "name": "stdout",
     "output_type": "stream",
     "text": [
      "Square Root: [1. 2. 3. 4. 5.]\n",
      "Power (Squared): [  1  16  81 256 625]\n"
     ]
    }
   ],
   "source": [
    "#Element-wise Power and Square Root\n",
    "arr = np.array([1, 4, 9, 16, 25])\n",
    "\n",
    "# Element-wise square root\n",
    "sqrt_result = np.sqrt(arr)\n",
    "\n",
    "# Element-wise power (raise each element to the power of 2)\n",
    "power_result = np.power(arr, 2)\n",
    "\n",
    "print(\"Square Root:\", sqrt_result)\n",
    "print(\"Power (Squared):\", power_result)"
   ]
  },
  {
   "cell_type": "code",
   "execution_count": 16,
   "id": "ec38e7e2-c87b-4a24-bf66-12fb308a6f64",
   "metadata": {},
   "outputs": [
    {
     "name": "stdout",
     "output_type": "stream",
     "text": [
      "Greater than: [False False  True]\n",
      "Less than or equal: [ True  True False]\n",
      "Equality: [False  True False]\n"
     ]
    }
   ],
   "source": [
    "#Comparison Operations:Element-wise comparisons return Boolean arrays.\n",
    "# Comparison operations\n",
    "arr1 = np.array([10, 20, 30])\n",
    "arr2 = np.array([15, 20, 25])\n",
    "\n",
    "print(\"Greater than:\", arr1 > arr2)  # [False, False, True]\n",
    "print(\"Less than or equal:\", arr1 <= arr2)  # [ True,  True, False]\n",
    "print(\"Equality:\", arr1 == arr2)"
   ]
  },
  {
   "cell_type": "code",
   "execution_count": 17,
   "id": "037e3e3c-730c-41e6-925e-d4501fe8c2d4",
   "metadata": {},
   "outputs": [
    {
     "name": "stdout",
     "output_type": "stream",
     "text": [
      "Sum: 15\n",
      "Mean: 3.0\n",
      "Min: 1\n",
      "Max: 5\n"
     ]
    }
   ],
   "source": [
    "#Sum, Mean, Min, Max\n",
    "arr = np.array([1, 2, 3, 4, 5])\n",
    "\n",
    "# Sum of all elements\n",
    "total_sum = np.sum(arr)\n",
    "\n",
    "# Mean of all elements\n",
    "mean_value = np.mean(arr)\n",
    "\n",
    "# Minimum element\n",
    "min_value = np.min(arr)\n",
    "\n",
    "# Maximum element\n",
    "max_value = np.max(arr)\n",
    "\n",
    "print(\"Sum:\", total_sum)\n",
    "print(\"Mean:\", mean_value)\n",
    "print(\"Min:\", min_value)\n",
    "print(\"Max:\", max_value)"
   ]
  },
  {
   "cell_type": "code",
   "execution_count": 18,
   "id": "2c98ed6d-8288-4a55-8614-3fe16d9fbb2d",
   "metadata": {},
   "outputs": [
    {
     "name": "stdout",
     "output_type": "stream",
     "text": [
      "Array of numbers: [ 4  8 15 16 23 42  3  7 12  9]\n",
      "Standard Deviation: 10.97679370308106\n"
     ]
    }
   ],
   "source": [
    "#TASK\n",
    "import numpy as np\n",
    "\n",
    "# Create an array of 10 numbers\n",
    "numbers = np.array([4, 8, 15, 16, 23, 42, 3, 7, 12, 9])\n",
    "\n",
    "# Calculate the standard deviation\n",
    "std_dev = np.std(numbers)\n",
    "\n",
    "print(\"Array of numbers:\", numbers)\n",
    "print(\"Standard Deviation:\", std_dev)"
   ]
  },
  {
   "cell_type": "code",
   "execution_count": 19,
   "id": "6b5e3d89-f668-4a33-931e-c5e2dccdc0e8",
   "metadata": {},
   "outputs": [
    {
     "name": "stdout",
     "output_type": "stream",
     "text": [
      "Array 1: [1 2 3 4 5]\n",
      "Array 2: [10 20 30 40 50]\n",
      "Element-wise Multiplication Result: [ 10  40  90 160 250]\n",
      "Sum of Result: 550\n"
     ]
    }
   ],
   "source": [
    "#TASK\n",
    "import numpy as np\n",
    "\n",
    "# Create two arrays\n",
    "array1 = np.array([1, 2, 3, 4, 5])\n",
    "array2 = np.array([10, 20, 30, 40, 50])\n",
    "\n",
    "# Element-wise multiplication\n",
    "result = array1 * array2\n",
    "\n",
    "# Sum of the resulting array\n",
    "result_sum = np.sum(result)\n",
    "\n",
    "print(\"Array 1:\", array1)\n",
    "print(\"Array 2:\", array2)\n",
    "print(\"Element-wise Multiplication Result:\", result)\n",
    "print(\"Sum of Result:\", result_sum)\n"
   ]
  },
  {
   "cell_type": "code",
   "execution_count": 20,
   "id": "fd9b10ac-ad70-45e7-ba5d-fea0dcfdd523",
   "metadata": {},
   "outputs": [
    {
     "name": "stdout",
     "output_type": "stream",
     "text": [
      "Original Data: [ 1.  2. nan  4.  5.]\n",
      "Cleaned Data: [1. 2. 3. 4. 5.]\n"
     ]
    }
   ],
   "source": [
    "#DATA PREPROCESSING : 1.Handling Missing Data (Imputation)\n",
    "# Create an array with missing values (NaN)\n",
    "data = np.array([1.0, 2.0, np.nan, 4.0, 5.0])\n",
    "\n",
    "# Replace NaN with the mean of the array\n",
    "mean_value = np.nanmean(data)\n",
    "data_cleaned = np.nan_to_num(data, nan=mean_value)\n",
    "\n",
    "print(\"Original Data:\", data)\n",
    "print(\"Cleaned Data:\", data_cleaned)"
   ]
  },
  {
   "cell_type": "code",
   "execution_count": 21,
   "id": "2d76963a-2462-45ba-8702-4659d1912846",
   "metadata": {},
   "outputs": [
    {
     "data": {
      "text/plain": [
       "array([0.  , 0.25, 0.5 , 0.75, 1.  ])"
      ]
     },
     "execution_count": 21,
     "metadata": {},
     "output_type": "execute_result"
    }
   ],
   "source": [
    "# STANDISATION: (Z-score)\n",
    "\n",
    "data = np.array([10, 12, 11, 14, 13, 100, 15, 16])\n",
    "mean = np.mean(data)\n",
    "std_dev = np.std(data)\n",
    "z_scores = (data - mean) / std_dev\n",
    "z_scores\n",
    "\n",
    "#Mean for Data Normalization(scaling it to a desired range.( when scaling data to the range [0, 1], the mean can be subtracted from the data, and the result is divided by the range of the data (max - min).)\n",
    "data = np.array([10, 20, 30, 40, 50])\n",
    "min_val = np.min(data)\n",
    "max_val = np.max(data)\n",
    "normalized_data = (data - min_val) / (max_val - min_val)\n",
    "normalized_data "
   ]
  },
  {
   "cell_type": "code",
   "execution_count": 22,
   "id": "21b77691-e707-4a45-988e-2b611f6708d2",
   "metadata": {},
   "outputs": [
    {
     "data": {
      "text/plain": [
       "array([10. , 12.5, 15. , 17.5, 20. ])"
      ]
     },
     "execution_count": 22,
     "metadata": {},
     "output_type": "execute_result"
    }
   ],
   "source": [
    "#if range changes\n",
    "a = 10  \n",
    "b = 20\n",
    "scaled_data = a + ((data - min_val) * (b - a)) / (max_val - min_val)\n",
    "scaled_data "
   ]
  }
 ],
 "metadata": {
  "kernelspec": {
   "display_name": "Python 3 (ipykernel)",
   "language": "python",
   "name": "python3"
  },
  "language_info": {
   "codemirror_mode": {
    "name": "ipython",
    "version": 3
   },
   "file_extension": ".py",
   "mimetype": "text/x-python",
   "name": "python",
   "nbconvert_exporter": "python",
   "pygments_lexer": "ipython3",
   "version": "3.13.1"
  }
 },
 "nbformat": 4,
 "nbformat_minor": 5
}
