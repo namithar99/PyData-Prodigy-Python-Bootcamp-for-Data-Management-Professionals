{
 "cells": [
  {
   "cell_type": "code",
   "execution_count": 1,
   "id": "10a26cb7-525d-468d-a172-377fc7cd5954",
   "metadata": {},
   "outputs": [],
   "source": [
    "# STORING DATA : VARIABLE AND ASSIGNMENT\n",
    "num1 = 10    \n",
    "num2 = -42    \n",
    "num3 = 0  "
   ]
  },
  {
   "cell_type": "code",
   "execution_count": 2,
   "id": "87490c2b-4dbe-4e51-a5c8-1682eac15496",
   "metadata": {},
   "outputs": [
    {
     "data": {
      "text/plain": [
       "10"
      ]
     },
     "execution_count": 2,
     "metadata": {},
     "output_type": "execute_result"
    }
   ],
   "source": [
    "num1"
   ]
  },
  {
   "cell_type": "code",
   "execution_count": 3,
   "id": "f7e9944b-e6e3-48ee-bc46-6f862d16573d",
   "metadata": {},
   "outputs": [],
   "source": [
    "age = 25\n",
    "user_name = \"John\"\n",
    "_counter = 100\n",
    "totalAmount = 500\n",
    "number_2 = 50\n",
    "my_variable = [1, 2, 3]"
   ]
  },
  {
   "cell_type": "code",
   "execution_count": 4,
   "id": "6f67828d-a3c5-474f-b7c7-9cb546c1c9b1",
   "metadata": {},
   "outputs": [
    {
     "data": {
      "text/plain": [
       "'John'"
      ]
     },
     "execution_count": 4,
     "metadata": {},
     "output_type": "execute_result"
    }
   ],
   "source": [
    "user_name"
   ]
  },
  {
   "cell_type": "code",
   "execution_count": 5,
   "id": "e3f13b39-7bf1-4ba6-9058-4d0094b7689f",
   "metadata": {},
   "outputs": [
    {
     "ename": "SyntaxError",
     "evalue": "invalid decimal literal (2236734401.py, line 3)",
     "output_type": "error",
     "traceback": [
      "\u001b[1;36m  Cell \u001b[1;32mIn[5], line 3\u001b[1;36m\u001b[0m\n\u001b[1;33m    2nd_place = 10     # Starts with a number\u001b[0m\n\u001b[1;37m    ^\u001b[0m\n\u001b[1;31mSyntaxError\u001b[0m\u001b[1;31m:\u001b[0m invalid decimal literal\n"
     ]
    }
   ],
   "source": [
    "#INVALID\n",
    "\n",
    "2nd_place = 10     # Starts with a number\n",
    "if = 20            # Reserved word\n",
    "total amount = 500 # Contains a space"
   ]
  },
  {
   "cell_type": "code",
   "execution_count": 6,
   "id": "bbdc26f2-7350-4823-9cf7-79818e811992",
   "metadata": {},
   "outputs": [
    {
     "ename": "SyntaxError",
     "evalue": "invalid decimal literal (3290512245.py, line 3)",
     "output_type": "error",
     "traceback": [
      "\u001b[1;36m  Cell \u001b[1;32mIn[6], line 3\u001b[1;36m\u001b[0m\n\u001b[1;33m    1st_item = \"apple\"\u001b[0m\n\u001b[1;37m    ^\u001b[0m\n\u001b[1;31mSyntaxError\u001b[0m\u001b[1;31m:\u001b[0m invalid decimal literal\n"
     ]
    }
   ],
   "source": [
    "#FIX THE VARIABLE NAME\n",
    "\n",
    "1st_item = \"apple\"\n",
    "item-price=5.0\n",
    "total price=20\n",
    "print(1st_item,item-price,total price)"
   ]
  },
  {
   "cell_type": "code",
   "execution_count": null,
   "id": "4b3fe2cb-9a61-44db-a563-5af25d2e629a",
   "metadata": {},
   "outputs": [],
   "source": [
    "first_item = \"apple\"\n",
    "item_price=5.0\n",
    "total_price=20\n",
    "print(first_item,item_price,total_price)"
   ]
  },
  {
   "cell_type": "code",
   "execution_count": null,
   "id": "89e41c9b-81a7-474b-a402-d564c2000e36",
   "metadata": {},
   "outputs": [],
   "source": [
    "#DATA TYPES\n",
    "\n",
    "age = 25  # Integer\n",
    "print(age)\n",
    "print(type(age))\n",
    "\n",
    "height = 5.9  # Float\n",
    "print(height)\n",
    "print(type(height))\n",
    "\n",
    "name = \"John Doe\"  # String\n",
    "print(name)\n",
    "print(type(name))\n",
    "\n",
    "is_student = True  # Boolean\n",
    "is_teacher = False  # Boolean\n",
    "print(is_student)\n",
    "print(is_teacher)\n",
    "print(type(is_student))"
   ]
  },
  {
   "cell_type": "code",
   "execution_count": null,
   "id": "04bcfbf5-63ca-4c64-925a-6e592508eb33",
   "metadata": {},
   "outputs": [],
   "source": [
    "# COVERTING\n",
    "\n",
    "x = \"100\"\n",
    "y = 10.5\n",
    "z = 50\n",
    "x=int(x)\n",
    "y=int(y)\n",
    "z=str(z)"
   ]
  },
  {
   "cell_type": "code",
   "execution_count": null,
   "id": "394e59c2-2b4f-45f0-a3ba-d6d7b26327f5",
   "metadata": {},
   "outputs": [],
   "source": [
    "x\n",
    "y\n",
    "z"
   ]
  },
  {
   "cell_type": "code",
   "execution_count": null,
   "id": "46bcf24f-3c32-4f7c-a1ad-a8db2dcb904f",
   "metadata": {},
   "outputs": [],
   "source": [
    "#SLICING\n",
    "\n",
    "s = \"Python\"\n",
    "print(s[0])   # Output: P\n",
    "print(s[-1])  # Output: n"
   ]
  },
  {
   "cell_type": "code",
   "execution_count": null,
   "id": "a873a356-1d26-43ce-be8e-672145415300",
   "metadata": {},
   "outputs": [],
   "source": [
    "#Operators\n",
    "\n",
    "a = 10\n",
    "b = 3\n",
    "\n",
    "print(\"Addition:\", a + b)         # Output: 13\n",
    "print(\"Subtraction:\", a - b)      # Output: 7\n",
    "print(\"Multiplication:\", a * b)   # Output: 30\n",
    "print(\"Division:\", a / b)         # Output: 3.3333\n",
    "print(\"Modulus:\", a % b)          # Output: 1\n",
    "print(\"Exponentiation:\", a ** b)  # Output: 1000\n"
   ]
  },
  {
   "cell_type": "code",
   "execution_count": 7,
   "id": "c915ee52-8524-4968-86bb-c003327cb756",
   "metadata": {},
   "outputs": [
    {
     "name": "stdin",
     "output_type": "stream",
     "text": [
      "Enter your name:  JOHN\n"
     ]
    },
    {
     "name": "stdout",
     "output_type": "stream",
     "text": [
      "Hello, JOHN!\n"
     ]
    }
   ],
   "source": [
    "#INPUT FUNCTION\n",
    "\n",
    "# Asking the user for their name\n",
    "name = input(\"Enter your name: \")\n",
    "print(\"Hello, \" + name + \"!\")"
   ]
  },
  {
   "cell_type": "code",
   "execution_count": 8,
   "id": "799ffca9-3080-4c96-9154-12f8c72748fe",
   "metadata": {},
   "outputs": [
    {
     "name": "stdin",
     "output_type": "stream",
     "text": [
      "Enter the length of the rectangle:  4\n",
      "Enter the width of the rectangle:  5\n"
     ]
    },
    {
     "name": "stdout",
     "output_type": "stream",
     "text": [
      "The area of the rectangle is:  20.0\n"
     ]
    }
   ],
   "source": [
    "# TASK Taking input from the user\n",
    "\n",
    "length = float(input(\"Enter the length of the rectangle: \"))\n",
    "width = float(input(\"Enter the width of the rectangle: \"))\n",
    "\n",
    "# Calculating the area\n",
    "area = length * width\n",
    "\n",
    "# Displaying the result\n",
    "print(\"The area of the rectangle is: \", area)"
   ]
  },
  {
   "cell_type": "code",
   "execution_count": 9,
   "id": "80ae3edf-f99b-41c3-b36c-3611e472fefa",
   "metadata": {},
   "outputs": [
    {
     "name": "stdin",
     "output_type": "stream",
     "text": [
      "Enter your age:  24\n"
     ]
    },
    {
     "name": "stdout",
     "output_type": "stream",
     "text": [
      "In 5 years, you will be 29\n"
     ]
    }
   ],
   "source": [
    "#DATA CONVERSATION\n",
    "\n",
    "# Asking the user for an integer input and performing a calculation\n",
    "age = int(input(\"Enter your age: \")) # Convert input to an integer\n",
    "print(\"In 5 years, you will be\", age + 5)"
   ]
  },
  {
   "cell_type": "markdown",
   "id": "a7536b64-4302-4260-9d69-7ad37825f8a5",
   "metadata": {},
   "source": [
    "##### Step 1: Input two numbers from the user\n",
    "dividend = int(input(\"Enter the dividend: \"))\n",
    "divisor = int(input(\"Enter the divisor: \"))\n",
    "\n",
    "# Step 2: Perform the modulus operation\n",
    "remainder = dividend % divisor\n",
    "remainder"
   ]
  },
  {
   "cell_type": "code",
   "execution_count": 11,
   "id": "c6efeb49-d813-487f-b99c-5657546213d8",
   "metadata": {},
   "outputs": [
    {
     "name": "stdout",
     "output_type": "stream",
     "text": [
      "You are eligible to vote!\n"
     ]
    }
   ],
   "source": [
    "#conditional statem8nt\n",
    " #if condition:\n",
    "    # Code block to execute if the condition is True\n",
    "\n",
    "age = 24\n",
    "if age >= 18:\n",
    "    print(\"You are eligible to vote!\")"
   ]
  },
  {
   "cell_type": "code",
   "execution_count": 12,
   "id": "7f6a2d92-43b3-416e-81e2-2c1c04bfd70a",
   "metadata": {},
   "outputs": [
    {
     "name": "stdout",
     "output_type": "stream",
     "text": [
      "You are not eligible to vote.\n"
     ]
    }
   ],
   "source": [
    "#if condition:\n",
    "    # Code block to execute if the condition is True\n",
    "#else:\n",
    "    # Code block to execute if the condition is False\n",
    "age = 16\n",
    "if age >= 18:\n",
    "    print(\"You are eligible to vote!\")\n",
    "else:\n",
    "    print(\"You are not eligible to vote.\")"
   ]
  },
  {
   "cell_type": "code",
   "execution_count": 13,
   "id": "e4a01117-296b-43fd-a00f-828f380b4108",
   "metadata": {},
   "outputs": [
    {
     "name": "stdout",
     "output_type": "stream",
     "text": [
      "You are an adult.\n"
     ]
    }
   ],
   "source": [
    "#if condition1:\n",
    "    # Code block to execute if condition1 is True\n",
    "#elif condition2:\n",
    "    # Code block to execute if condition2 is True\n",
    "#else:\n",
    "    # Code block to execute if all conditions are False\n",
    "age = 20\n",
    "if age < 18:\n",
    "    print(\"You are a minor.\")\n",
    "elif age == 18:\n",
    "    print(\"You just became an adult!\")\n",
    "else:\n",
    "    print(\"You are an adult.\")"
   ]
  },
  {
   "cell_type": "markdown",
   "id": "451d4cd7-1195-49cf-b7c5-0315510919e7",
   "metadata": {},
   "source": [
    "# TASK\n",
    "# Take input from the user\n",
    "year = int(input(\"Enter a year: \"))\n",
    "\n",
    "# Check if the year is a leap year\n",
    "if (year % 4 == 0 and year % 100 != 0) or (year % 400 == 0):\n",
    "    print(f\"{year} is a leap year.\")\n",
    "else:\n",
    "    print(f\"{year} is not a leap year.\")"
   ]
  },
  {
   "cell_type": "code",
   "execution_count": 15,
   "id": "9e480fdb-cef3-4d54-b939-e4ff11ee1964",
   "metadata": {},
   "outputs": [
    {
     "name": "stdout",
     "output_type": "stream",
     "text": [
      "apple\n",
      "banana\n",
      "cherry\n"
     ]
    }
   ],
   "source": [
    "# FOR LOOP\n",
    "fruits = [\"apple\", \"banana\", \"cherry\"]\n",
    "\n",
    "# Looping through the list of fruits\n",
    "for fruit in fruits:\n",
    "    print(fruit)"
   ]
  },
  {
   "cell_type": "code",
   "execution_count": 16,
   "id": "c5d08e17-ef6e-4a70-8d7a-c1e68707624f",
   "metadata": {},
   "outputs": [
    {
     "name": "stdout",
     "output_type": "stream",
     "text": [
      "1\n",
      "2\n",
      "4\n",
      "5\n"
     ]
    }
   ],
   "source": [
    "for i in range(1, 6):\n",
    "    if i == 3:  # IF i IS 3 BREAK THE STATEMENT\n",
    "        continue  # Skip printing 3\n",
    "    print(i)"
   ]
  },
  {
   "cell_type": "code",
   "execution_count": 17,
   "id": "ffe5bdd8-9ec8-4452-94c9-1068baf3837d",
   "metadata": {},
   "outputs": [
    {
     "name": "stdout",
     "output_type": "stream",
     "text": [
      "0\n",
      "1\n",
      "2\n",
      "3\n",
      "4\n"
     ]
    }
   ],
   "source": [
    "for i in range(5):\n",
    "    print(i)"
   ]
  },
  {
   "cell_type": "code",
   "execution_count": 18,
   "id": "6dbc883a-b8f1-4190-9969-acf0efa912ce",
   "metadata": {},
   "outputs": [
    {
     "name": "stdout",
     "output_type": "stream",
     "text": [
      "1\n",
      "2\n",
      "3\n",
      "4\n",
      "5\n"
     ]
    }
   ],
   "source": [
    "#WHILE LOOP\n",
    "# Initializing the counter variable\n",
    "counter = 1\n",
    "\n",
    "# While loop to print numbers from 1 to 5\n",
    "while counter <= 5:\n",
    "    print(counter)\n",
    "    counter += 1  # Increment the counter by 1\n"
   ]
  },
  {
   "cell_type": "code",
   "execution_count": 19,
   "id": "70d7bbfe-0f15-4e9e-88cd-48a0c0c939b5",
   "metadata": {},
   "outputs": [
    {
     "name": "stdout",
     "output_type": "stream",
     "text": [
      "0\n",
      "1\n",
      "2\n",
      "3\n",
      "4\n",
      "5\n"
     ]
    }
   ],
   "source": [
    "# Loop Control Statements:use to control the flow of a loop.\n",
    "\n",
    "#break: Exits the loop immediately, even if the loop condition is still True.\n",
    "\n",
    "for i in range(10):\n",
    "    if i == 6:\n",
    "        break  # Exits the loop when i is 5\n",
    "    print(i)"
   ]
  },
  {
   "cell_type": "code",
   "execution_count": 20,
   "id": "cc7ef3a2-faaf-4122-864d-d34f57e4fcc1",
   "metadata": {},
   "outputs": [
    {
     "name": "stdout",
     "output_type": "stream",
     "text": [
      "0\n",
      "1\n",
      "3\n",
      "4\n"
     ]
    }
   ],
   "source": [
    "#continue: Skips the rest of the code inside the current iteration and goes to the next iteration of the loop.\n",
    "\n",
    "for i in range(5):\n",
    "    if i == 2:\n",
    "        continue  # Skips the iteration when i is 2\n",
    "    print(i)"
   ]
  },
  {
   "cell_type": "code",
   "execution_count": 21,
   "id": "c692022c-6a3e-4e5d-91c0-3b6fa12e3399",
   "metadata": {},
   "outputs": [
    {
     "name": "stdout",
     "output_type": "stream",
     "text": [
      "12\n",
      "HELLO,WORLD!\n",
      "hello,world!\n",
      "['Hello', 'World!']\n"
     ]
    }
   ],
   "source": [
    "#STRING\n",
    "my_string = \"Hello,World!\"\n",
    "print(len(my_string))  # Output: 13\n",
    "print(my_string.upper())  # Output: HELLO, WORLD!\n",
    "print(my_string.lower())  # Output: hello, world!\n",
    "print(my_string.split(\",\")) # Output: ['Hello', ' World!']"
   ]
  },
  {
   "cell_type": "code",
   "execution_count": 22,
   "id": "15dee160-5577-4c6e-9c3a-639d2b8142fc",
   "metadata": {},
   "outputs": [
    {
     "name": "stdout",
     "output_type": "stream",
     "text": [
      "5\n",
      "3.14\n",
      "81\n",
      "8\n",
      "1\n",
      "19\n"
     ]
    }
   ],
   "source": [
    "x = -5\n",
    "print(abs(x))  # Output: 5\n",
    "y = 3.14159\n",
    "print(round(y, 2))  # Output: 3.14\n",
    "print(pow(3, 4))  # Output: 8\n",
    "numbers = [1, 5, 2, 8, 3]\n",
    "print(max(numbers))  # Output: 8\n",
    "print(min(numbers))  # Output: 1\n",
    "print(sum(numbers))"
   ]
  },
  {
   "cell_type": "code",
   "execution_count": null,
   "id": "51b26e76-11b0-4b57-be17-0863fcb0ce4d",
   "metadata": {},
   "outputs": [
    {
     "name": "stdout",
     "output_type": "stream",
     "text": [
      "1. Addition\n",
      "2. Subtraction\n",
      "3. Multiplication\n",
      "4. Division\n",
      "5. Exit\n"
     ]
    },
    {
     "name": "stdin",
     "output_type": "stream",
     "text": [
      "Choose an option (1/2/3/4/5):  1\n",
      "Enter the first number:  5\n",
      "Enter the second number:  9\n"
     ]
    },
    {
     "name": "stdout",
     "output_type": "stream",
     "text": [
      "Result: 14.0\n",
      "1. Addition\n",
      "2. Subtraction\n",
      "3. Multiplication\n",
      "4. Division\n",
      "5. Exit\n"
     ]
    }
   ],
   "source": [
    "def calculator():\n",
    "    while True:\n",
    "        print(\"1. Addition\")\n",
    "        print(\"2. Subtraction\")\n",
    "        print(\"3. Multiplication\")\n",
    "        print(\"4. Division\")\n",
    "        print(\"5. Exit\")\n",
    "        \n",
    "        choice = input(\"Choose an option (1/2/3/4/5): \")\n",
    "        \n",
    "        if choice == '1':\n",
    "            num1 = float(input(\"Enter the first number: \"))\n",
    "            num2 = float(input(\"Enter the second number: \"))\n",
    "            print(\"Result:\", num1 + num2)\n",
    "        elif choice == '2':\n",
    "            num1 = float(input(\"Enter the first number: \"))\n",
    "            num2 = float(input(\"Enter the second number: \"))\n",
    "            print(\"Result:\", num1 - num2)\n",
    "        elif choice == '3':\n",
    "            num1 = float(input(\"Enter the first number: \"))\n",
    "            num2 = float(input(\"Enter the second number: \"))\n",
    "            print(\"Result:\", num1 * num2)\n",
    "        elif choice == '4':\n",
    "            num1 = float(input(\"Enter the first number: \"))\n",
    "            num2 = float(input(\"Enter the second number: \"))\n",
    "            if num2 == 0:\n",
    "                print(\"Error: Division by zero is not allowed.\")\n",
    "            else:\n",
    "                print(\"Result:\", num1 / num2)\n",
    "        elif choice == '5':\n",
    "            print(\"Goodbye!\")\n",
    "            break\n",
    "        else:\n",
    "            print(\"Invalid choice. Please select a valid option.\")\n",
    "\n",
    "# Run the calculator\n",
    "calculator()\n",
    "\n"
   ]
  },
  {
   "cell_type": "markdown",
   "id": "1918d40c-65cc-4a50-a7d5-fb6c5d85bf8d",
   "metadata": {},
   "source": []
  },
  {
   "cell_type": "code",
   "execution_count": null,
   "id": "38d0df20-85f3-46e6-a2ee-21f0963564b6",
   "metadata": {},
   "outputs": [],
   "source": []
  }
 ],
 "metadata": {
  "kernelspec": {
   "display_name": "Python 3 (ipykernel)",
   "language": "python",
   "name": "python3"
  },
  "language_info": {
   "codemirror_mode": {
    "name": "ipython",
    "version": 3
   },
   "file_extension": ".py",
   "mimetype": "text/x-python",
   "name": "python",
   "nbconvert_exporter": "python",
   "pygments_lexer": "ipython3",
   "version": "3.13.1"
  }
 },
 "nbformat": 4,
 "nbformat_minor": 5
}
