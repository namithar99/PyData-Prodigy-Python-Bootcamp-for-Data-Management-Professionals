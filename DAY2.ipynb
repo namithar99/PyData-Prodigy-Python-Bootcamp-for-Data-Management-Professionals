{
 "cells": [
  {
   "cell_type": "code",
   "execution_count": 23,
   "id": "cd684774-b518-48c2-8dce-24773d4144a1",
   "metadata": {},
   "outputs": [],
   "source": [
    "#creating a list\n",
    "# Empty list\n",
    "empty_list = []\n",
    "\n",
    "# List of integers\n",
    "numbers = [1, 2, 3, 4, 5]\n",
    "\n",
    "# List of strings\n",
    "fruits = [\"apple\", \"banana\", \"cherry\"]\n",
    "\n",
    "# Mixed data types\n",
    "mixed_list = [1, \"hello\", 3.14, True]\n",
    "\n",
    "# Nested lists (list inside a list)\n",
    "nested_list = [[1, 2], [3, 4], [5, 6]]"
   ]
  },
  {
   "cell_type": "code",
   "execution_count": 24,
   "id": "e3aa0825-624e-49d4-b30c-6ea769aa7536",
   "metadata": {},
   "outputs": [
    {
     "name": "stdout",
     "output_type": "stream",
     "text": [
      "apple\n",
      "banana\n",
      "cherry\n",
      "['apple', 'banana']\n",
      "['apple', 'banana']\n",
      "['banana', 'cherry']\n"
     ]
    }
   ],
   "source": [
    "#Accessing Elements:You can access elements using indexing and slicing.\n",
    "# Access by index\n",
    "fruits = [\"apple\", \"banana\", \"cherry\"]\n",
    "print(fruits[0])  \n",
    "print(fruits[1])  \n",
    "\n",
    "# Negative indexing (from the end)\n",
    "print(fruits[-1]) \n",
    "print(fruits[-3:-1]) #left to right\n",
    "# Slicing\n",
    "print(fruits[0:2]) \n",
    "print(fruits[1:])   "
   ]
  },
  {
   "cell_type": "code",
   "execution_count": 25,
   "id": "9cdff4c3-d922-4553-b48f-7bbd7614387d",
   "metadata": {},
   "outputs": [
    {
     "name": "stdout",
     "output_type": "stream",
     "text": [
      "[1, 2, 3]\n",
      "2\n",
      "9\n"
     ]
    }
   ],
   "source": [
    "#TASK\n",
    "nested_list = [\n",
    "    [1, 2, 3], \n",
    "    [4, 5, 6], \n",
    "    [7, 8, 9]\n",
    "]\n",
    "\n",
    "# Accessing elements in the nested list\n",
    "print(nested_list[0])    \n",
    "print(nested_list[0][1])\n",
    "print(nested_list[2][2])"
   ]
  },
  {
   "cell_type": "code",
   "execution_count": 26,
   "id": "67249ca5-0ada-46ee-a4cc-cc9f86802512",
   "metadata": {},
   "outputs": [
    {
     "name": "stdout",
     "output_type": "stream",
     "text": [
      "['apple', 'banana', 'cherry']\n"
     ]
    }
   ],
   "source": [
    "# METHODS IN LISTS\n",
    "\n",
    "#append(x):Adds an item x to the end of the list.\n",
    "fruits = [\"apple\", \"banana\"]\n",
    "fruits.append(\"cherry\")\n",
    "print(fruits)  "
   ]
  },
  {
   "cell_type": "code",
   "execution_count": 27,
   "id": "9bb36d73-f81a-4e8a-aafe-1e2d383402d0",
   "metadata": {},
   "outputs": [
    {
     "name": "stdout",
     "output_type": "stream",
     "text": [
      "['apple', 'banana', 'cherry', 'date']\n"
     ]
    }
   ],
   "source": [
    "#extend(iterable):Extends the list by appending elements from another iterable (e.g., list, tuple).\n",
    "\n",
    "fruits = [\"apple\", \"banana\"]\n",
    "more_fruits = [\"cherry\", \"date\"]\n",
    "fruits.extend(more_fruits)\n",
    "print(fruits)  \n"
   ]
  },
  {
   "cell_type": "code",
   "execution_count": 28,
   "id": "43d20007-2c98-4bfc-bb9d-082f988cff1c",
   "metadata": {},
   "outputs": [
    {
     "name": "stdout",
     "output_type": "stream",
     "text": [
      "['apple', 'cherry', 'banana']\n"
     ]
    }
   ],
   "source": [
    "#insert(i, x):Inserts an item x at a specified position i.\n",
    "fruits = [\"apple\", \"banana\"]\n",
    "fruits.insert(1, \"cherry\")\n",
    "print(fruits)  \n"
   ]
  },
  {
   "cell_type": "code",
   "execution_count": 29,
   "id": "fce69fa0-e380-4179-9492-3749c880ab28",
   "metadata": {},
   "outputs": [
    {
     "name": "stdout",
     "output_type": "stream",
     "text": [
      "['apple', 'cherry']\n"
     ]
    }
   ],
   "source": [
    "#remove(x):Removes the first occurrence of item x.\n",
    "fruits = [\"apple\", \"banana\", \"cherry\",]\n",
    "fruits.remove(\"banana\")\n",
    "print(fruits)  \n"
   ]
  },
  {
   "cell_type": "code",
   "execution_count": 30,
   "id": "59b944dd-211f-42c1-9fd5-de2da608d3bf",
   "metadata": {},
   "outputs": [
    {
     "name": "stdout",
     "output_type": "stream",
     "text": [
      "['apple', 'cherry']\n",
      "banana\n"
     ]
    }
   ],
   "source": [
    "#pop(i):Removes and returns the item at index i. If i is omitted, removes the last item.\n",
    "fruits = [\"apple\", \"banana\", \"cherry\"]\n",
    "popped_item = fruits.pop(1)\n",
    "print(fruits)       \n",
    "print(popped_item) "
   ]
  },
  {
   "cell_type": "code",
   "execution_count": 31,
   "id": "5ef40f64-1f46-4ca6-9478-95e5b10bf4bb",
   "metadata": {},
   "outputs": [
    {
     "name": "stdout",
     "output_type": "stream",
     "text": [
      "[]\n"
     ]
    }
   ],
   "source": [
    "#clear():Removes all items from the list.\n",
    "fruits = [\"apple\", \"banana\", \"cherry\"]\n",
    "fruits.clear()\n",
    "print(fruits)  "
   ]
  },
  {
   "cell_type": "code",
   "execution_count": 32,
   "id": "6430e625-74e1-4673-96b3-39fbca10b87d",
   "metadata": {},
   "outputs": [
    {
     "name": "stdout",
     "output_type": "stream",
     "text": [
      "1\n"
     ]
    }
   ],
   "source": [
    "#index(x):Returns the index of the first occurrence of item x.\n",
    "fruits = [\"apple\", \"banana\", \"cherry\"]\n",
    "print(fruits.index(\"banana\"))  "
   ]
  },
  {
   "cell_type": "code",
   "execution_count": 33,
   "id": "fa008f68-6e06-403f-a4c2-9d939db869e8",
   "metadata": {},
   "outputs": [
    {
     "name": "stdout",
     "output_type": "stream",
     "text": [
      "2\n"
     ]
    }
   ],
   "source": [
    "#count(x):Counts the number of occurrences of item x.\n",
    "fruits = [\"apple\", \"banana\", \"cherry\", \"banana\"]\n",
    "print(fruits.count(\"banana\")) "
   ]
  },
  {
   "cell_type": "code",
   "execution_count": 34,
   "id": "6bcabf20-a181-401a-920a-7424bf973c9b",
   "metadata": {},
   "outputs": [
    {
     "name": "stdout",
     "output_type": "stream",
     "text": [
      "[1, 2, 5, 9]\n"
     ]
    }
   ],
   "source": [
    "#sort():Sorts the list in ascending order (modifies the list in-place).\n",
    "numbers = [5, 2, 9, 1]\n",
    "numbers.sort()\n",
    "print(numbers) "
   ]
  },
  {
   "cell_type": "code",
   "execution_count": 35,
   "id": "7f1b3330-a18d-45ff-ad53-018ba70d13dd",
   "metadata": {},
   "outputs": [
    {
     "name": "stdout",
     "output_type": "stream",
     "text": [
      "[9, 5, 2, 1]\n"
     ]
    }
   ],
   "source": [
    "numbers = [5, 2, 9, 1]\n",
    "numbers.sort(reverse=True)\n",
    "print(numbers) "
   ]
  },
  {
   "cell_type": "code",
   "execution_count": 36,
   "id": "e7432f14-3478-4860-a3cc-23f8f3a94868",
   "metadata": {},
   "outputs": [
    {
     "name": "stdout",
     "output_type": "stream",
     "text": [
      "[4, 3, 5, 1]\n"
     ]
    }
   ],
   "source": [
    "#reverse():Reverses the elements of the list.\n",
    "numbers = [1, 5, 3, 4]\n",
    "numbers.reverse()\n",
    "print(numbers) "
   ]
  },
  {
   "cell_type": "code",
   "execution_count": 37,
   "id": "8cd137a3-8a22-4cf8-87e1-0531b330c95b",
   "metadata": {},
   "outputs": [
    {
     "name": "stdout",
     "output_type": "stream",
     "text": [
      "['apple', 'banana', 'cherry']\n"
     ]
    }
   ],
   "source": [
    "#copy():Creates a shallow copy of the list.\n",
    "fruits = [\"apple\", \"banana\", \"cherry\"]\n",
    "copy_fruits = fruits.copy()\n",
    "print(copy_fruits)"
   ]
  },
  {
   "cell_type": "code",
   "execution_count": 38,
   "id": "5528be37-4309-4584-b8cf-1a158dd09093",
   "metadata": {
    "scrolled": true
   },
   "outputs": [
    {
     "name": "stdout",
     "output_type": "stream",
     "text": [
      "Cumulative Sum: [1, 3, 6, 10, 15]\n"
     ]
    }
   ],
   "source": [
    "#TASK1 \n",
    "#Write a Python program to compute the cumulative sum of a list.\n",
    "\n",
    "nums = [1, 2, 3, 4, 5]\n",
    "cumulative_sum = [sum(nums[:i+1]) for i in range(len(nums))]\n",
    "print(\"Cumulative Sum:\", cumulative_sum)"
   ]
  },
  {
   "cell_type": "code",
   "execution_count": 39,
   "id": "5d7c1a84-1337-4fb2-9cf7-d974d8a9b886",
   "metadata": {},
   "outputs": [
    {
     "name": "stdout",
     "output_type": "stream",
     "text": [
      "(1, 2, 3, 4)\n",
      "(1, 'Hello', 3.14, True)\n",
      "(5,)\n",
      "()\n",
      "(1, 2, 3)\n"
     ]
    }
   ],
   "source": [
    "#TUPLE\n",
    "\n",
    "my_tuple = (1, 2, 3, 4) #basis tuple\n",
    "print(my_tuple)\n",
    "\n",
    "mixed_tuple = (1, \"Hello\", 3.14, True) #mixed data types\n",
    "print(mixed_tuple) \n",
    "\n",
    "single_element_tuple = (5,) #single element\n",
    "print(single_element_tuple)  \n",
    "\n",
    "empty_tuple = () #empty tuple\n",
    "print(empty_tuple)  \n",
    "\n",
    "constructed_tuple = tuple([1, 2, 3]) #constructed tuple\n",
    "print(constructed_tuple)  \n"
   ]
  },
  {
   "cell_type": "code",
   "execution_count": 40,
   "id": "c6fe8078-c018-430f-ae55-74b620f35f6e",
   "metadata": {},
   "outputs": [
    {
     "name": "stdout",
     "output_type": "stream",
     "text": [
      "apple\n",
      "cherry\n",
      "('banana', 'cherry', 'date')\n",
      "('apple', 'banana', 'cherry')\n"
     ]
    }
   ],
   "source": [
    "#Accessing Tuple Elements\n",
    "fruits = (\"apple\", \"banana\", \"cherry\")\n",
    "print(fruits[0])  \n",
    "print(fruits[2])  \n",
    "\n",
    "#slicing\n",
    "fruits = (\"apple\", \"banana\", \"cherry\", \"date\", \"elderberry\")\n",
    "print(fruits[1:4])  \n",
    "print(fruits[:3])  "
   ]
  },
  {
   "cell_type": "code",
   "execution_count": 41,
   "id": "3bd8514a-94fa-4370-a5c5-49b075a4f03a",
   "metadata": {},
   "outputs": [
    {
     "name": "stdout",
     "output_type": "stream",
     "text": [
      "(1, 2, 3, 4, 5, 6)\n",
      "('Hello', 'Hello', 'Hello')\n"
     ]
    }
   ],
   "source": [
    "#Tuple operations\n",
    "\n",
    "#concatenation\n",
    "tuple1 = (1, 2, 3)\n",
    "tuple2 = (4, 5, 6)\n",
    "result = tuple1 + tuple2\n",
    "print(result)  \n",
    "\n",
    "#Repetition:\n",
    "tuple1 = (\"Hello\",)\n",
    "result = tuple1 * 3\n",
    "print(result) "
   ]
  },
  {
   "cell_type": "code",
   "execution_count": 42,
   "id": "20563c99-8b99-4700-b7b7-e584c7bb63e5",
   "metadata": {},
   "outputs": [
    {
     "name": "stdout",
     "output_type": "stream",
     "text": [
      "['apple', 'orange', 'cherry']\n"
     ]
    }
   ],
   "source": [
    "#mutability of list\n",
    "\n",
    "fruits = [\"apple\", \"banana\", \"cherry\"]\n",
    "fruits[1] = \"orange\"  # Replace \"banana\" with \"orange\"\n",
    "print(fruits)"
   ]
  },
  {
   "cell_type": "code",
   "execution_count": 43,
   "id": "c3f19fa3-3da4-4d91-9c8c-93caaec2be49",
   "metadata": {},
   "outputs": [
    {
     "name": "stdout",
     "output_type": "stream",
     "text": [
      "('red', 'blue', 'green')\n"
     ]
    },
    {
     "ename": "TypeError",
     "evalue": "'tuple' object does not support item assignment",
     "output_type": "error",
     "traceback": [
      "\u001b[1;31m---------------------------------------------------------------------------\u001b[0m",
      "\u001b[1;31mTypeError\u001b[0m                                 Traceback (most recent call last)",
      "Cell \u001b[1;32mIn[43], line 5\u001b[0m\n\u001b[0;32m      3\u001b[0m \u001b[38;5;28mprint\u001b[39m(colors)\n\u001b[0;32m      4\u001b[0m \u001b[38;5;66;03m# Output: ('red', 'blue', 'green')\u001b[39;00m\n\u001b[1;32m----> 5\u001b[0m \u001b[43mcolors\u001b[49m\u001b[43m[\u001b[49m\u001b[38;5;241;43m0\u001b[39;49m\u001b[43m]\u001b[49m \u001b[38;5;241m=\u001b[39m \u001b[38;5;124m\"\u001b[39m\u001b[38;5;124myellow\u001b[39m\u001b[38;5;124m\"\u001b[39m  \n\u001b[0;32m      6\u001b[0m \u001b[38;5;66;03m# TypeError: 'tuple' object does not support item assignment\u001b[39;00m\n",
      "\u001b[1;31mTypeError\u001b[0m: 'tuple' object does not support item assignment"
     ]
    }
   ],
   "source": [
    "#Demonstrating Tuple Immutability\n",
    "colors = (\"red\", \"blue\", \"green\")\n",
    "print(colors)\n",
    "# Output: ('red', 'blue', 'green')\n",
    "colors[0] = \"yellow\"  \n",
    "# TypeError: 'tuple' object does not support item assignment"
   ]
  },
  {
   "cell_type": "code",
   "execution_count": 44,
   "id": "1460b285-1c5a-4fa6-adb8-f2938f4dd49a",
   "metadata": {},
   "outputs": [
    {
     "name": "stdout",
     "output_type": "stream",
     "text": [
      "Alice\n",
      "25\n",
      "{'name': 'Alice', 'age': 25, 'city': 'New York', 'email': 'alice@example.com'}\n"
     ]
    }
   ],
   "source": [
    "# DICTIONARY\n",
    "# Creating a dictionary with keys and values\n",
    "my_dict = {\n",
    "    'name': 'Alice',\n",
    "    'age': 25,\n",
    "    'city': 'New York'\n",
    "}\n",
    "my_dict\n",
    "\n",
    "#Accessing dictionaries elements\n",
    "#Using Keys\n",
    "print(my_dict[\"name\"])  # Output: Bob\n",
    "print(my_dict[\"age\"]) \n",
    "\n",
    "# Adding a new key-value pair\n",
    "my_dict['email'] = 'alice@example.com'\n",
    "print(my_dict)"
   ]
  },
  {
   "cell_type": "code",
   "execution_count": 45,
   "id": "053adaba-a3a0-4a66-9b0b-37e32e964b4f",
   "metadata": {},
   "outputs": [
    {
     "name": "stdout",
     "output_type": "stream",
     "text": [
      "dict_keys(['name', 'age', 'profession'])\n",
      "dict_values(['Alice', 25, 'Engineer'])\n",
      "dict_items([('name', 'Alice'), ('age', 25), ('profession', 'Engineer')])\n",
      "{'name': 'Alice', 'age': 30, 'profession': 'Engineer', 'salary': 50000}\n",
      "30\n",
      "50000\n",
      "{'name': 'Alice', 'age': 30, 'profession': 'Engineer'}\n",
      "{}\n"
     ]
    }
   ],
   "source": [
    "#modifying dictionaries\n",
    "\n",
    "#keys(): Get All Keys\n",
    "person = {\"name\": \"Alice\", \"age\": 25, \"profession\": \"Engineer\"}\n",
    "print(person.keys())\n",
    "\n",
    "#values(): Get All Values\n",
    "print(person.values())\n",
    "\n",
    "#items(): Get All Key-Value Pairs\n",
    "print(person.items())\n",
    "\n",
    "#update(): Update Dictionary with Another Dictionary\n",
    "person.update({\"age\": 30, \"salary\": 50000})\n",
    "print(person)\n",
    "\n",
    "#get(key): Retrieve a Value by Key\n",
    "print(person.get(\"age\"))\n",
    "\n",
    "#pop(key): Remove a Key-Value Pair and Return Its Value\n",
    "salary = person.pop(\"salary\")\n",
    "print(salary)  # Output: 50000\n",
    "print(person)\n",
    "\n",
    "#clear(): Remove All Key-Value Pairs\n",
    "person.clear()\n",
    "print(person)"
   ]
  },
  {
   "cell_type": "code",
   "execution_count": 46,
   "id": "97675dc0-164f-4d18-afef-f62d52d3432d",
   "metadata": {},
   "outputs": [
    {
     "name": "stdout",
     "output_type": "stream",
     "text": [
      "Removed model: Corolla\n",
      "Updated car dictionary: {'brand': 'Toyota', 'year': 2023, 'color': 'blue'}\n"
     ]
    }
   ],
   "source": [
    "#TASK\n",
    "\n",
    "# Step 1: Create the initial dictionary\n",
    "car = {\n",
    "    \"brand\": \"Toyota\",\n",
    "    \"model\": \"Corolla\",\n",
    "    \"year\": 2020\n",
    "}\n",
    "\n",
    "# Step 2: Add a key \"color\" with the value \"blue\"\n",
    "car[\"color\"] = \"blue\"\n",
    "\n",
    "# Step 3: Update the \"year\" to 2023\n",
    "car[\"year\"] = 2023\n",
    "\n",
    "# Step 4: Remove the \"model\" key and display its value\n",
    "removed_model = car.pop(\"model\")\n",
    "print(\"Removed model:\", removed_model)\n",
    "\n",
    "# Display the results\n",
    "print(\"Updated car dictionary:\", car)"
   ]
  },
  {
   "cell_type": "code",
   "execution_count": 47,
   "id": "b916e8f3-41fa-4ddf-854a-05a064d21679",
   "metadata": {},
   "outputs": [
    {
     "name": "stdout",
     "output_type": "stream",
     "text": [
      "Alice's Math score: 90\n",
      "\n",
      "Alice:\n",
      "  Math: 90\n",
      "  English: 85\n",
      "  Science: 92\n",
      "\n",
      "Bob:\n",
      "  Math: 75\n",
      "  English: 78\n",
      "  Science: 80\n",
      "\n",
      "Charlie:\n",
      "  Math: 88\n",
      "  English: 95\n",
      "  Science: 89\n"
     ]
    }
   ],
   "source": [
    "# Nested dictionary to store student information\n",
    "students = {\n",
    "    'Alice': {'Math': 90, 'English': 85, 'Science': 92},\n",
    "    'Bob': {'Math': 75, 'English': 78, 'Science': 80},\n",
    "    'Charlie': {'Math': 88, 'English': 95, 'Science': 89}\n",
    "}\n",
    "\n",
    "# Accessing data in a nested dictionary\n",
    "print(\"Alice's Math score:\", students['Alice']['Math'])  \n",
    "\n",
    "# Looping through the nested dictionary\n",
    "for student, subjects in students.items():\n",
    "    print(f\"\\n{student}:\")\n",
    "    for subject, score in subjects.items():\n",
    "        print(f\"  {subject}: {score}\")\n"
   ]
  },
  {
   "cell_type": "code",
   "execution_count": 48,
   "id": "ff347507-c5e8-43f7-9285-32b253e3bb26",
   "metadata": {},
   "outputs": [
    {
     "data": {
      "text/plain": [
       "[{1, 2, 3}, {4, 5}, {2, 3}, {6, 7}]"
      ]
     },
     "execution_count": 48,
     "metadata": {},
     "output_type": "execute_result"
    }
   ],
   "source": [
    "\n",
    "#You are given a list of sets, and your task is to find all pairs of sets that are disjoint. A pair of sets is disjoint if they do not share any common elements.\n",
    "sets = [{1, 2, 3}, {4, 5}, {2, 3}, {6, 7}]\n",
    "sets"
   ]
  },
  {
   "cell_type": "code",
   "execution_count": 49,
   "id": "0b172f58-0f92-4512-95bc-acf45bce3c05",
   "metadata": {},
   "outputs": [
    {
     "name": "stdout",
     "output_type": "stream",
     "text": [
      "[1, 2, 3]\n",
      "6\n",
      "['apple', 'banana', 'cherry']\n",
      "spinach\n",
      "John\n",
      "30\n",
      "John\n",
      "IT\n"
     ]
    }
   ],
   "source": [
    "#NESTED DATA STRUCTURES\n",
    "#list of list\n",
    "nested_list = [\n",
    "    [1, 2, 3], \n",
    "    [4, 5, 6], \n",
    "    [7, 8, 9]\n",
    "]\n",
    "\n",
    "# Accessing elements in the nested list\n",
    "print(nested_list[0])    \n",
    "print(nested_list[1][2]) \n",
    "\n",
    "#Dictionary of Lists\n",
    "nested_dict_of_lists = {\n",
    "    \"fruits\": [\"apple\", \"banana\", \"cherry\"],\n",
    "    \"vegetables\": [\"carrot\", \"spinach\", \"lettuce\"]\n",
    "}\n",
    "\n",
    "# Accessing elements in the dictionary of lists\n",
    "print(nested_dict_of_lists[\"fruits\"])  # ['apple', 'banana', 'cherry']\n",
    "print(nested_dict_of_lists[\"vegetables\"][1])  # spinach\n",
    "\n",
    "#list of dictionaries\n",
    "nested_list_of_dicts = [\n",
    "    {\"name\": \"John\", \"age\": 25},\n",
    "    {\"name\": \"Alice\", \"age\": 30},\n",
    "    {\"name\": \"Bob\", \"age\": 20}\n",
    "]\n",
    "\n",
    "# Accessing elements in the list of dictionaries\n",
    "print(nested_list_of_dicts[0][\"name\"])  # John\n",
    "print(nested_list_of_dicts[1][\"age\"])   # 30\n",
    "\n",
    "#Dictionaries of dictionaries\n",
    "nested_dict_of_dicts = {\n",
    "    \"employee1\": {\"name\": \"John\", \"department\": \"HR\"},\n",
    "    \"employee2\": {\"name\": \"Alice\", \"department\": \"IT\"},\n",
    "}\n",
    "\n",
    "# Accessing elements in the dictionary of dictionaries\n",
    "print(nested_dict_of_dicts[\"employee1\"][\"name\"])  # John\n",
    "print(nested_dict_of_dicts[\"employee2\"][\"department\"])  # IT\n"
   ]
  },
  {
   "cell_type": "code",
   "execution_count": 50,
   "id": "9c40b147-ece0-4ffa-98ea-d49f60a8b4c5",
   "metadata": {},
   "outputs": [
    {
     "name": "stdout",
     "output_type": "stream",
     "text": [
      "{1, 2, 3, 4, 5}\n"
     ]
    }
   ],
   "source": [
    "#SET OPERATIONS\n",
    "\n",
    "#UNION :Combines the elements of two sets. The result contains all unique elements from both sets.\n",
    "\n",
    "set1 = {1, 2, 3}\n",
    "set2 = {3, 4, 5}\n",
    "union_set = set1 | set2  # or set1.union(set2)\n",
    "print(union_set)"
   ]
  },
  {
   "cell_type": "code",
   "execution_count": 51,
   "id": "006d68b3-332c-4e3c-94d8-bc2a496b05e1",
   "metadata": {},
   "outputs": [
    {
     "name": "stdout",
     "output_type": "stream",
     "text": [
      "{3}\n"
     ]
    }
   ],
   "source": [
    "#INTERSECTION:Returns the elements that are common to both sets.\n",
    "\n",
    "intersection_set = set1 & set2  # or set1.intersection(set2)\n",
    "print(intersection_set)"
   ]
  },
  {
   "cell_type": "code",
   "execution_count": 52,
   "id": "5dedda37-9783-492f-9635-8f07df2f1f30",
   "metadata": {},
   "outputs": [
    {
     "name": "stdout",
     "output_type": "stream",
     "text": [
      "{1, 2}\n"
     ]
    }
   ],
   "source": [
    "#DIFFERENCE:Returns the elements present in the first set but not in the second set.\n",
    "\n",
    "difference_set = set1 - set2  # or set1.difference(set2)\n",
    "print(difference_set)"
   ]
  },
  {
   "cell_type": "code",
   "execution_count": 53,
   "id": "82dfb5b8-0b30-442d-9234-3ab3270020b7",
   "metadata": {},
   "outputs": [
    {
     "name": "stdout",
     "output_type": "stream",
     "text": [
      "{1, 2, 4, 5}\n"
     ]
    }
   ],
   "source": [
    "#SYMMETRIC DIFFERENCE:Returns the elements that are in either of the sets, but not in both.\n",
    "\n",
    "symmetric_diff_set = set1 ^ set2  # or set1.symmetric_difference(set2)\n",
    "print(symmetric_diff_set)\n"
   ]
  },
  {
   "cell_type": "code",
   "execution_count": 54,
   "id": "4dd5bdfa-8d6a-4df1-8b51-10d91bfb9d98",
   "metadata": {},
   "outputs": [
    {
     "name": "stdout",
     "output_type": "stream",
     "text": [
      "True\n",
      "True\n"
     ]
    }
   ],
   "source": [
    "#SUBSET AND SUPERSET\n",
    "#A set is a subset of another set if all elements of the first set are also in the second set.\n",
    "#A set is a superset of another set if the first set contains all elements of the second set.\n",
    "\n",
    "set1 = {1, 2, 3}\n",
    "set2 = {1, 2}\n",
    "print(set2.issubset(set1))  # Output: True\n",
    "print(set1.issuperset(set2))"
   ]
  },
  {
   "cell_type": "code",
   "execution_count": 55,
   "id": "2a980106-bc65-43de-b93a-a0d724a8889b",
   "metadata": {},
   "outputs": [
    {
     "name": "stdout",
     "output_type": "stream",
     "text": [
      "True\n"
     ]
    }
   ],
   "source": [
    "#DISJOINT SET:wo sets are disjoint if they have no common elements.\n",
    "\n",
    "set1 = {1, 2, 3}\n",
    "set2 = {4, 5, 6}\n",
    "print(set1.isdisjoint(set2))"
   ]
  },
  {
   "cell_type": "code",
   "execution_count": 56,
   "id": "72d59c8c-4776-439b-a4d4-d760fcd4eea5",
   "metadata": {},
   "outputs": [
    {
     "name": "stdout",
     "output_type": "stream",
     "text": [
      "[92, 91, 95]\n"
     ]
    }
   ],
   "source": [
    "#TASK\n",
    "#Problem Statement: Given a list of lists, where each inner list represents the scores of a student in different subjects, find the highest score of each student.\n",
    "students_scores = [\n",
    "    [85, 92, 78],\n",
    "    [88, 90, 91],\n",
    "    [76, 89, 95]\n",
    "]\n",
    "\n",
    "# Find the highest score of each student\n",
    "highest_scores = [max(student) for student in students_scores]\n",
    "print(highest_scores) "
   ]
  },
  {
   "cell_type": "code",
   "execution_count": 57,
   "id": "ec2a9ec7-45c8-4bd0-b0ad-8e49252b8428",
   "metadata": {},
   "outputs": [
    {
     "name": "stdout",
     "output_type": "stream",
     "text": [
      "{'John': 85.0, 'Alice': 88.33333333333333, 'Bob': 83.66666666666667}\n"
     ]
    }
   ],
   "source": [
    "#TASK\n",
    "#Problem Statement: Given a dictionary of students and their marks in various subjects, calculate the average marks of each student.\n",
    "\n",
    "students_marks = {\n",
    "    \"John\": {\"math\": 85, \"english\": 90, \"science\": 80},\n",
    "    \"Alice\": {\"math\": 88, \"english\": 92, \"science\": 85},\n",
    "    \"Bob\": {\"math\": 78, \"english\": 85, \"science\": 88}\n",
    "}\n",
    "\n",
    "# Calculate the average marks for each student\n",
    "average_marks = {student: sum(marks.values()) / len(marks) for student, marks in students_marks.items()}\n",
    "print(average_marks)  \n"
   ]
  },
  {
   "cell_type": "code",
   "execution_count": 58,
   "id": "eaf89864-874f-4644-a3cd-e21f42c31048",
   "metadata": {},
   "outputs": [
    {
     "name": "stdout",
     "output_type": "stream",
     "text": [
      "{1, 2, 3, 4}\n",
      "{1, 2, 3, 4}\n"
     ]
    }
   ],
   "source": [
    "#SET\n",
    "# Creating a set\n",
    "my_set = {1, 2, 3, 4}\n",
    "print(my_set)\n",
    "\n",
    "# Creating a set from a list (duplicates will be removed)\n",
    "my_list = [1, 2, 2, 3, 4, 4]\n",
    "my_set_from_list = set(my_list)\n",
    "print(my_set_from_list)"
   ]
  },
  {
   "cell_type": "code",
   "execution_count": 59,
   "id": "ca80672e-d28f-40de-9418-1dd2d20cd419",
   "metadata": {},
   "outputs": [
    {
     "name": "stdout",
     "output_type": "stream",
     "text": [
      "Merged List: [1, 2, 3, 4, 5, 6]\n"
     ]
    }
   ],
   "source": [
    "#TASK\n",
    "#Write a Python program to merge two lists while removing duplicates.\n",
    "\n",
    "list1 = [1, 2, 3, 4]\n",
    "list2 = [3, 4, 5, 6]\n",
    "merged_list = list(set(list1 + list2))\n",
    "print(\"Merged List:\", merged_list)"
   ]
  },
  {
   "cell_type": "code",
   "execution_count": 60,
   "id": "36528586-b6b9-4fbc-a369-69364f60153f",
   "metadata": {},
   "outputs": [
    {
     "name": "stdout",
     "output_type": "stream",
     "text": [
      "Hello, world!\n",
      "Hello, \n",
      "\n"
     ]
    }
   ],
   "source": [
    "#FILE HANDLING\n",
    "# Writing to a text file\n",
    "\n",
    "with open(\"example.txt\", \"w\") as file:\n",
    "    file.write(\"Hello, world!\\n\") #file name example.txt\n",
    "    file.write(\"Hello, \\n\")\n",
    "    \n",
    "# Reading from a text file\n",
    "with open(\"example.txt\", \"r\") as file:\n",
    "    content = file.read()\n",
    "    print(content)  "
   ]
  },
  {
   "cell_type": "code",
   "execution_count": 61,
   "id": "6f9355ce-4cff-4424-b996-5ff24c3f708d",
   "metadata": {},
   "outputs": [
    {
     "name": "stdout",
     "output_type": "stream",
     "text": [
      "['Name', 'Age']\n",
      "['Alice', '25']\n",
      "['john', '25']\n"
     ]
    }
   ],
   "source": [
    "#csv\n",
    "import csv\n",
    "\n",
    "# Writing to a CSV file\n",
    "with open(\"data.csv\", \"w\",newline=\"\") as file:\n",
    "    writer = csv.writer(file)\n",
    "    writer.writerow([\"Name\", \"Age\"])\n",
    "    writer.writerow([\"Alice\", 25])\n",
    "    writer.writerow([\"john\", 25])\n",
    "# Reading from a CSV file\n",
    "with open(\"data.csv\", \"r\") as file:\n",
    "    reader = csv.reader(file)\n",
    "    for row in reader:\n",
    "        print(row)"
   ]
  },
  {
   "cell_type": "code",
   "execution_count": null,
   "id": "226c9875-a352-462c-9624-7dc0bba01b26",
   "metadata": {},
   "outputs": [],
   "source": [
    "import csv\n",
    "\n",
    "# Create or overwrite the CSV file\n",
    "with open('user_data.csv', 'w', newline='') as file:\n",
    "    writer = csv.writer(file)\n",
    "    writer.writerow(['Name', 'Age', 'Email'])  # Write headers\n",
    "\n",
    "    while (name := input(\"Name ('done' to stop): \").lower()) != 'done':\n",
    "        age = input(\"Age: \")\n",
    "        email = input(\"Email: \")\n",
    "        writer.writerow([name, age, email])\n",
    "        print(\"Data added!\\n\")\n",
    "\n",
    "print(\"Data saved to 'users_data.csv'.\")"
   ]
  },
  {
   "cell_type": "code",
   "execution_count": null,
   "id": "4a96e389-4107-45a1-837a-e9e4c79c22d6",
   "metadata": {},
   "outputs": [],
   "source": [
    "#TASK :Dictionary\n",
    "#Store contacts and their phone numbers as key-value pairs.\n",
    "\n",
    "contacts = {\n",
    "    \"John Doe\": \"123-456-7890\",\n",
    "    \"Jane Smith\": \"987-654-3210\",\n",
    "    \"Alice Johnson\": \"555-123-4567\"\n",
    "}\n",
    "\n",
    "# Accessing a contact's phone number\n",
    "print(contacts[\"John Doe\"])  # Output: 123-456-7890\n",
    "\n",
    "# Adding a new contact\n",
    "contacts[\"Bob Brown\"] = \"222-333-4444\"\n",
    "\n",
    "# Printing all contacts and their phone numbers\n",
    "for name, phone in contacts.items():\n",
    "    print(name + \": \" + phone)\n",
    "\n"
   ]
  },
  {
   "cell_type": "code",
   "execution_count": null,
   "id": "c4f83b82-118e-4f15-969c-1752ca6c5894",
   "metadata": {},
   "outputs": [],
   "source": [
    "new_contacts = {\n",
    "    \"Merin\": \"555-123-3546\",\n",
    "    \"Boston\": \"222-333-3564\"\n",
    "}\n",
    "contacts.update(new_contacts)\n",
    "\n",
    "for name, phone in contacts.items():\n",
    "    print(name + \": \" + phone)\n"
   ]
  },
  {
   "cell_type": "code",
   "execution_count": null,
   "id": "53e31939-16f0-4330-a9e9-15cd49f58f4a",
   "metadata": {},
   "outputs": [],
   "source": [
    "# Accessing a contact's phone number by its key\n",
    "contact_name = \"John Doe\"\n",
    "phone_number = contacts[contact_name]\n",
    "print(\"The phone number of \" + contact_name + \" is: \" + phone_number)"
   ]
  },
  {
   "cell_type": "code",
   "execution_count": null,
   "id": "0de4dcaf-568d-40dd-ad09-957ca6e4fbb2",
   "metadata": {},
   "outputs": [],
   "source": [
    "#deleting\n",
    "contact_name = \"John Doe\"\n",
    "del contacts[contact_name]\n",
    "print(contacts)"
   ]
  },
  {
   "cell_type": "code",
   "execution_count": null,
   "id": "cc868bcd-c13e-4d3d-9096-297ee52b2f72",
   "metadata": {},
   "outputs": [],
   "source": [
    "# List of student scores\n",
    "student_scores = [85, 92, 78, 94, 88, 76, 95, 89, 77, 91]\n",
    "\n",
    "# Sort the student scores in ascending order\n",
    "sorted_scores = sorted(student_scores)\n",
    "print(\"Sorted scores:\", sorted_scores)\n",
    "\n",
    "# Identify the highest and lowest scores using max and min\n",
    "highest_score = max(student_scores)\n",
    "lowest_score = min(student_scores)\n",
    "print(\"Highest score:\", highest_score)\n",
    "print(\"Lowest score:\", lowest_score)\n",
    "\n",
    "# Calculate the average score\n",
    "average_score = sum(student_scores) / len(student_scores)\n",
    "print(\"Average score:\", average_score)"
   ]
  },
  {
   "cell_type": "code",
   "execution_count": null,
   "id": "eb26285e-a24c-4c58-bd39-8ed2e021d79e",
   "metadata": {},
   "outputs": [],
   "source": []
  }
 ],
 "metadata": {
  "kernelspec": {
   "display_name": "Python 3 (ipykernel)",
   "language": "python",
   "name": "python3"
  },
  "language_info": {
   "codemirror_mode": {
    "name": "ipython",
    "version": 3
   },
   "file_extension": ".py",
   "mimetype": "text/x-python",
   "name": "python",
   "nbconvert_exporter": "python",
   "pygments_lexer": "ipython3",
   "version": "3.13.1"
  }
 },
 "nbformat": 4,
 "nbformat_minor": 5
}
